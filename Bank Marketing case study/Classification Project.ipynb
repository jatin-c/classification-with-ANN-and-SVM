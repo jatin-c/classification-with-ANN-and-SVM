{
 "cells": [
  {
   "cell_type": "code",
   "execution_count": 3,
   "metadata": {},
   "outputs": [
    {
     "ename": "XGBoostLibraryNotFound",
     "evalue": "Cannot find XGBoost Library in the candidate path, did you install compilers and run build.sh in root path?\nList of candidates:\nC:\\Users\\om\\AppData\\Roaming\\Python\\Python37\\site-packages\\xgboost\\xgboost.dll\nC:\\Users\\om\\AppData\\Roaming\\Python\\Python37\\site-packages\\xgboost\\../../lib/xgboost.dll\nC:\\Users\\om\\AppData\\Roaming\\Python\\Python37\\site-packages\\xgboost\\./lib/xgboost.dll\nC:\\Users\\om\\Anaconda3\\xgboost\\xgboost.dll\nC:\\Users\\om\\AppData\\Roaming\\Python\\Python37\\site-packages\\xgboost\\../../windows/x64/Release/xgboost.dll\nC:\\Users\\om\\AppData\\Roaming\\Python\\Python37\\site-packages\\xgboost\\./windows/x64/Release/xgboost.dll",
     "output_type": "error",
     "traceback": [
      "\u001b[1;31m---------------------------------------------------------------------------\u001b[0m",
      "\u001b[1;31mXGBoostLibraryNotFound\u001b[0m                    Traceback (most recent call last)",
      "\u001b[1;32m<ipython-input-3-5bf66450d0a0>\u001b[0m in \u001b[0;36m<module>\u001b[1;34m\u001b[0m\n\u001b[0;32m     63\u001b[0m \u001b[1;32mfrom\u001b[0m \u001b[0msklearn\u001b[0m\u001b[1;33m.\u001b[0m\u001b[0mensemble\u001b[0m \u001b[1;32mimport\u001b[0m \u001b[0mBaggingClassifier\u001b[0m\u001b[1;33m,\u001b[0m \u001b[0mBaggingRegressor\u001b[0m\u001b[1;33m,\u001b[0m\u001b[0mRandomForestClassifier\u001b[0m\u001b[1;33m,\u001b[0m\u001b[0mRandomForestRegressor\u001b[0m\u001b[1;33m\u001b[0m\u001b[1;33m\u001b[0m\u001b[0m\n\u001b[0;32m     64\u001b[0m \u001b[1;32mfrom\u001b[0m \u001b[0msklearn\u001b[0m\u001b[1;33m.\u001b[0m\u001b[0mensemble\u001b[0m \u001b[1;32mimport\u001b[0m \u001b[0mGradientBoostingClassifier\u001b[0m\u001b[1;33m,\u001b[0m\u001b[0mGradientBoostingRegressor\u001b[0m\u001b[1;33m,\u001b[0m \u001b[0mAdaBoostClassifier\u001b[0m\u001b[1;33m,\u001b[0m \u001b[0mAdaBoostRegressor\u001b[0m\u001b[1;33m\u001b[0m\u001b[1;33m\u001b[0m\u001b[0m\n\u001b[1;32m---> 65\u001b[1;33m \u001b[1;32mfrom\u001b[0m \u001b[0mxgboost\u001b[0m \u001b[1;32mimport\u001b[0m \u001b[0mXGBClassifier\u001b[0m\u001b[1;33m,\u001b[0m \u001b[0mXGBRegressor\u001b[0m\u001b[1;33m\u001b[0m\u001b[1;33m\u001b[0m\u001b[0m\n\u001b[0m\u001b[0;32m     66\u001b[0m \u001b[1;32mfrom\u001b[0m \u001b[0msklearn\u001b[0m\u001b[1;33m.\u001b[0m\u001b[0mnaive_bayes\u001b[0m \u001b[1;32mimport\u001b[0m \u001b[0mBernoulliNB\u001b[0m\u001b[1;33m,\u001b[0m \u001b[0mMultinomialNB\u001b[0m\u001b[1;33m,\u001b[0m \u001b[0mGaussianNB\u001b[0m\u001b[1;33m\u001b[0m\u001b[1;33m\u001b[0m\u001b[0m\n\u001b[0;32m     67\u001b[0m \u001b[1;32mfrom\u001b[0m \u001b[0msklearn\u001b[0m\u001b[1;33m.\u001b[0m\u001b[0msvm\u001b[0m \u001b[1;32mimport\u001b[0m \u001b[0mLinearSVC\u001b[0m\u001b[1;33m,\u001b[0m \u001b[0mLinearSVR\u001b[0m\u001b[1;33m,\u001b[0m \u001b[0mSVC\u001b[0m\u001b[1;33m,\u001b[0m \u001b[0mSVR\u001b[0m\u001b[1;33m\u001b[0m\u001b[1;33m\u001b[0m\u001b[0m\n",
      "\u001b[1;32m~\\AppData\\Roaming\\Python\\Python37\\site-packages\\xgboost\\__init__.py\u001b[0m in \u001b[0;36m<module>\u001b[1;34m\u001b[0m\n\u001b[0;32m      9\u001b[0m \u001b[1;32mimport\u001b[0m \u001b[0mos\u001b[0m\u001b[1;33m\u001b[0m\u001b[1;33m\u001b[0m\u001b[0m\n\u001b[0;32m     10\u001b[0m \u001b[1;33m\u001b[0m\u001b[0m\n\u001b[1;32m---> 11\u001b[1;33m \u001b[1;32mfrom\u001b[0m \u001b[1;33m.\u001b[0m\u001b[0mcore\u001b[0m \u001b[1;32mimport\u001b[0m \u001b[0mDMatrix\u001b[0m\u001b[1;33m,\u001b[0m \u001b[0mBooster\u001b[0m\u001b[1;33m\u001b[0m\u001b[1;33m\u001b[0m\u001b[0m\n\u001b[0m\u001b[0;32m     12\u001b[0m \u001b[1;32mfrom\u001b[0m \u001b[1;33m.\u001b[0m\u001b[0mtraining\u001b[0m \u001b[1;32mimport\u001b[0m \u001b[0mtrain\u001b[0m\u001b[1;33m,\u001b[0m \u001b[0mcv\u001b[0m\u001b[1;33m\u001b[0m\u001b[1;33m\u001b[0m\u001b[0m\n\u001b[0;32m     13\u001b[0m \u001b[1;32mfrom\u001b[0m \u001b[1;33m.\u001b[0m \u001b[1;32mimport\u001b[0m \u001b[0mrabit\u001b[0m                   \u001b[1;31m# noqa\u001b[0m\u001b[1;33m\u001b[0m\u001b[1;33m\u001b[0m\u001b[0m\n",
      "\u001b[1;32m~\\AppData\\Roaming\\Python\\Python37\\site-packages\\xgboost\\core.py\u001b[0m in \u001b[0;36m<module>\u001b[1;34m\u001b[0m\n\u001b[0;32m    159\u001b[0m \u001b[1;33m\u001b[0m\u001b[0m\n\u001b[0;32m    160\u001b[0m \u001b[1;31m# load the XGBoost library globally\u001b[0m\u001b[1;33m\u001b[0m\u001b[1;33m\u001b[0m\u001b[1;33m\u001b[0m\u001b[0m\n\u001b[1;32m--> 161\u001b[1;33m \u001b[0m_LIB\u001b[0m \u001b[1;33m=\u001b[0m \u001b[0m_load_lib\u001b[0m\u001b[1;33m(\u001b[0m\u001b[1;33m)\u001b[0m\u001b[1;33m\u001b[0m\u001b[1;33m\u001b[0m\u001b[0m\n\u001b[0m\u001b[0;32m    162\u001b[0m \u001b[1;33m\u001b[0m\u001b[0m\n\u001b[0;32m    163\u001b[0m \u001b[1;33m\u001b[0m\u001b[0m\n",
      "\u001b[1;32m~\\AppData\\Roaming\\Python\\Python37\\site-packages\\xgboost\\core.py\u001b[0m in \u001b[0;36m_load_lib\u001b[1;34m()\u001b[0m\n\u001b[0;32m    121\u001b[0m \u001b[1;32mdef\u001b[0m \u001b[0m_load_lib\u001b[0m\u001b[1;33m(\u001b[0m\u001b[1;33m)\u001b[0m\u001b[1;33m:\u001b[0m\u001b[1;33m\u001b[0m\u001b[1;33m\u001b[0m\u001b[0m\n\u001b[0;32m    122\u001b[0m     \u001b[1;34m\"\"\"Load xgboost Library.\"\"\"\u001b[0m\u001b[1;33m\u001b[0m\u001b[1;33m\u001b[0m\u001b[0m\n\u001b[1;32m--> 123\u001b[1;33m     \u001b[0mlib_paths\u001b[0m \u001b[1;33m=\u001b[0m \u001b[0mfind_lib_path\u001b[0m\u001b[1;33m(\u001b[0m\u001b[1;33m)\u001b[0m\u001b[1;33m\u001b[0m\u001b[1;33m\u001b[0m\u001b[0m\n\u001b[0m\u001b[0;32m    124\u001b[0m     \u001b[1;32mif\u001b[0m \u001b[1;32mnot\u001b[0m \u001b[0mlib_paths\u001b[0m\u001b[1;33m:\u001b[0m\u001b[1;33m\u001b[0m\u001b[1;33m\u001b[0m\u001b[0m\n\u001b[0;32m    125\u001b[0m         \u001b[1;32mreturn\u001b[0m \u001b[1;32mNone\u001b[0m\u001b[1;33m\u001b[0m\u001b[1;33m\u001b[0m\u001b[0m\n",
      "\u001b[1;32m~\\AppData\\Roaming\\Python\\Python37\\site-packages\\xgboost\\libpath.py\u001b[0m in \u001b[0;36mfind_lib_path\u001b[1;34m()\u001b[0m\n\u001b[0;32m     46\u001b[0m             \u001b[1;34m'Cannot find XGBoost Library in the candidate path, '\u001b[0m \u001b[1;33m+\u001b[0m\u001b[1;33m\u001b[0m\u001b[1;33m\u001b[0m\u001b[0m\n\u001b[0;32m     47\u001b[0m             \u001b[1;34m'did you install compilers and run build.sh in root path?\\n'\u001b[0m\u001b[1;33m\u001b[0m\u001b[1;33m\u001b[0m\u001b[0m\n\u001b[1;32m---> 48\u001b[1;33m             'List of candidates:\\n' + ('\\n'.join(dll_path)))\n\u001b[0m\u001b[0;32m     49\u001b[0m     \u001b[1;32mreturn\u001b[0m \u001b[0mlib_path\u001b[0m\u001b[1;33m\u001b[0m\u001b[1;33m\u001b[0m\u001b[0m\n",
      "\u001b[1;31mXGBoostLibraryNotFound\u001b[0m: Cannot find XGBoost Library in the candidate path, did you install compilers and run build.sh in root path?\nList of candidates:\nC:\\Users\\om\\AppData\\Roaming\\Python\\Python37\\site-packages\\xgboost\\xgboost.dll\nC:\\Users\\om\\AppData\\Roaming\\Python\\Python37\\site-packages\\xgboost\\../../lib/xgboost.dll\nC:\\Users\\om\\AppData\\Roaming\\Python\\Python37\\site-packages\\xgboost\\./lib/xgboost.dll\nC:\\Users\\om\\Anaconda3\\xgboost\\xgboost.dll\nC:\\Users\\om\\AppData\\Roaming\\Python\\Python37\\site-packages\\xgboost\\../../windows/x64/Release/xgboost.dll\nC:\\Users\\om\\AppData\\Roaming\\Python\\Python37\\site-packages\\xgboost\\./windows/x64/Release/xgboost.dll"
     ]
    },
    {
     "data": {
      "text/plain": [
       "<Figure size 432x216 with 0 Axes>"
      ]
     },
     "metadata": {},
     "output_type": "display_data"
    }
   ],
   "source": [
    "#Packages related to general operating system & warnings\n",
    "import os \n",
    "import warnings\n",
    "warnings.filterwarnings('ignore')\n",
    "\n",
    "#Packages related to data importing, manipulation, exploratory data analysis, data understanding\n",
    "import numpy as np\n",
    "import pandas as pd\n",
    "from pandas import Series, DataFrame\n",
    "import pandas_profiling\n",
    "import scipy.stats as stats\n",
    "\n",
    "#Packages related to data visualizaiton\n",
    "import seaborn as sns\n",
    "import matplotlib.pyplot as plt\n",
    "%matplotlib inline\n",
    "\n",
    "#Setting plot sizes and type of plot\n",
    "plt.rc(\"font\", size=14)\n",
    "plt.rcParams['axes.grid'] = True\n",
    "plt.figure(figsize=(6,3))\n",
    "plt.gray()\n",
    "\n",
    "from matplotlib.backends.backend_pdf import PdfPages\n",
    "\n",
    "#Modules related to split the data & gridsearch\n",
    "from sklearn.model_selection import train_test_split, GridSearchCV\n",
    "\n",
    "#Module related to calculation of metrics\n",
    "from sklearn import metrics\n",
    "\n",
    "#Module related to VIF \n",
    "from statsmodels.stats.outliers_influence import variance_inflation_factor\n",
    "\n",
    "#Modules related to preprocessing (Imputation of missings, standardiszation, new features creation, converting categorical to numerical)\n",
    "from sklearn.impute import MissingIndicator, SimpleImputer\n",
    "#from sklearn.preprocessing import Imputer, PolynomialFeatures, KBinsDiscretizer, FunctionTransformer\n",
    "from sklearn.preprocessing import StandardScaler, MinMaxScaler, MaxAbsScaler\n",
    "from sklearn.preprocessing import LabelEncoder, OneHotEncoder, LabelBinarizer, OrdinalEncoder\n",
    "\n",
    "#Moudles related to feature selection\n",
    "from sklearn.feature_selection import RFE, RFECV, SelectKBest, chi2, SelectPercentile, f_classif, mutual_info_classif, f_regression, VarianceThreshold, SelectFromModel, mutual_info_classif, mutual_info_regression, SelectFpr, SelectFdr, SelectFwe\n",
    "\n",
    "\n",
    "#Modules related to pipe line creation for faster processing\n",
    "from sklearn.pipeline import Pipeline\n",
    "from sklearn.pipeline import FeatureUnion\n",
    "#from sklearn.features.transformers import DataFrameSelector\n",
    "\n",
    "#Modules related to saving python objects permanantly\n",
    "from sklearn.externals import joblib\n",
    "\n",
    "#Dumping model into current directory: joblib.dump(model_xg,\"my_model.pkl\") \n",
    "#Loading model: my_model_loaded=joblib.load(\"my_model.pkl\")\n",
    "\n",
    "#Modules related key techniques of supervised learning \n",
    "import statsmodels.formula.api as smf\n",
    "import statsmodels.tsa as tsa\n",
    "\n",
    "from sklearn.linear_model import LogisticRegression, LinearRegression, ElasticNet, Lasso, Ridge\n",
    "from sklearn.neighbors import KNeighborsClassifier, KNeighborsRegressor\n",
    "from sklearn.tree import DecisionTreeClassifier, DecisionTreeRegressor, export_graphviz, export\n",
    "from sklearn.ensemble import BaggingClassifier, BaggingRegressor,RandomForestClassifier,RandomForestRegressor\n",
    "from sklearn.ensemble import GradientBoostingClassifier,GradientBoostingRegressor, AdaBoostClassifier, AdaBoostRegressor \n",
    "from xgboost import XGBClassifier, XGBRegressor\n",
    "from sklearn.naive_bayes import BernoulliNB, MultinomialNB, GaussianNB\n",
    "from sklearn.svm import LinearSVC, LinearSVR, SVC, SVR\n",
    "from sklearn.neural_network import MLPClassifier, MLPRegressor"
   ]
  },
  {
   "cell_type": "code",
   "execution_count": 2,
   "metadata": {},
   "outputs": [],
   "source": [
    "data = pd.read_csv('bank-additional.csv', sep=\";\")"
   ]
  },
  {
   "cell_type": "code",
   "execution_count": 3,
   "metadata": {},
   "outputs": [
    {
     "data": {
      "text/html": [
       "<div>\n",
       "<style scoped>\n",
       "    .dataframe tbody tr th:only-of-type {\n",
       "        vertical-align: middle;\n",
       "    }\n",
       "\n",
       "    .dataframe tbody tr th {\n",
       "        vertical-align: top;\n",
       "    }\n",
       "\n",
       "    .dataframe thead th {\n",
       "        text-align: right;\n",
       "    }\n",
       "</style>\n",
       "<table border=\"1\" class=\"dataframe\">\n",
       "  <thead>\n",
       "    <tr style=\"text-align: right;\">\n",
       "      <th></th>\n",
       "      <th>age</th>\n",
       "      <th>job</th>\n",
       "      <th>marital</th>\n",
       "      <th>education</th>\n",
       "      <th>default</th>\n",
       "      <th>housing</th>\n",
       "      <th>loan</th>\n",
       "      <th>contact</th>\n",
       "      <th>month</th>\n",
       "      <th>day_of_week</th>\n",
       "      <th>...</th>\n",
       "      <th>campaign</th>\n",
       "      <th>pdays</th>\n",
       "      <th>previous</th>\n",
       "      <th>poutcome</th>\n",
       "      <th>emp.var.rate</th>\n",
       "      <th>cons.price.idx</th>\n",
       "      <th>cons.conf.idx</th>\n",
       "      <th>euribor3m</th>\n",
       "      <th>nr.employed</th>\n",
       "      <th>y</th>\n",
       "    </tr>\n",
       "  </thead>\n",
       "  <tbody>\n",
       "    <tr>\n",
       "      <td>0</td>\n",
       "      <td>30</td>\n",
       "      <td>blue-collar</td>\n",
       "      <td>married</td>\n",
       "      <td>basic.9y</td>\n",
       "      <td>no</td>\n",
       "      <td>yes</td>\n",
       "      <td>no</td>\n",
       "      <td>cellular</td>\n",
       "      <td>may</td>\n",
       "      <td>fri</td>\n",
       "      <td>...</td>\n",
       "      <td>2</td>\n",
       "      <td>999</td>\n",
       "      <td>0</td>\n",
       "      <td>nonexistent</td>\n",
       "      <td>-1.8</td>\n",
       "      <td>92.893</td>\n",
       "      <td>-46.2</td>\n",
       "      <td>1.313</td>\n",
       "      <td>5099.1</td>\n",
       "      <td>no</td>\n",
       "    </tr>\n",
       "    <tr>\n",
       "      <td>1</td>\n",
       "      <td>39</td>\n",
       "      <td>services</td>\n",
       "      <td>single</td>\n",
       "      <td>high.school</td>\n",
       "      <td>no</td>\n",
       "      <td>no</td>\n",
       "      <td>no</td>\n",
       "      <td>telephone</td>\n",
       "      <td>may</td>\n",
       "      <td>fri</td>\n",
       "      <td>...</td>\n",
       "      <td>4</td>\n",
       "      <td>999</td>\n",
       "      <td>0</td>\n",
       "      <td>nonexistent</td>\n",
       "      <td>1.1</td>\n",
       "      <td>93.994</td>\n",
       "      <td>-36.4</td>\n",
       "      <td>4.855</td>\n",
       "      <td>5191.0</td>\n",
       "      <td>no</td>\n",
       "    </tr>\n",
       "    <tr>\n",
       "      <td>2</td>\n",
       "      <td>25</td>\n",
       "      <td>services</td>\n",
       "      <td>married</td>\n",
       "      <td>high.school</td>\n",
       "      <td>no</td>\n",
       "      <td>yes</td>\n",
       "      <td>no</td>\n",
       "      <td>telephone</td>\n",
       "      <td>jun</td>\n",
       "      <td>wed</td>\n",
       "      <td>...</td>\n",
       "      <td>1</td>\n",
       "      <td>999</td>\n",
       "      <td>0</td>\n",
       "      <td>nonexistent</td>\n",
       "      <td>1.4</td>\n",
       "      <td>94.465</td>\n",
       "      <td>-41.8</td>\n",
       "      <td>4.962</td>\n",
       "      <td>5228.1</td>\n",
       "      <td>no</td>\n",
       "    </tr>\n",
       "    <tr>\n",
       "      <td>3</td>\n",
       "      <td>38</td>\n",
       "      <td>services</td>\n",
       "      <td>married</td>\n",
       "      <td>basic.9y</td>\n",
       "      <td>no</td>\n",
       "      <td>unknown</td>\n",
       "      <td>unknown</td>\n",
       "      <td>telephone</td>\n",
       "      <td>jun</td>\n",
       "      <td>fri</td>\n",
       "      <td>...</td>\n",
       "      <td>3</td>\n",
       "      <td>999</td>\n",
       "      <td>0</td>\n",
       "      <td>nonexistent</td>\n",
       "      <td>1.4</td>\n",
       "      <td>94.465</td>\n",
       "      <td>-41.8</td>\n",
       "      <td>4.959</td>\n",
       "      <td>5228.1</td>\n",
       "      <td>no</td>\n",
       "    </tr>\n",
       "    <tr>\n",
       "      <td>4</td>\n",
       "      <td>47</td>\n",
       "      <td>admin.</td>\n",
       "      <td>married</td>\n",
       "      <td>university.degree</td>\n",
       "      <td>no</td>\n",
       "      <td>yes</td>\n",
       "      <td>no</td>\n",
       "      <td>cellular</td>\n",
       "      <td>nov</td>\n",
       "      <td>mon</td>\n",
       "      <td>...</td>\n",
       "      <td>1</td>\n",
       "      <td>999</td>\n",
       "      <td>0</td>\n",
       "      <td>nonexistent</td>\n",
       "      <td>-0.1</td>\n",
       "      <td>93.200</td>\n",
       "      <td>-42.0</td>\n",
       "      <td>4.191</td>\n",
       "      <td>5195.8</td>\n",
       "      <td>no</td>\n",
       "    </tr>\n",
       "  </tbody>\n",
       "</table>\n",
       "<p>5 rows × 21 columns</p>\n",
       "</div>"
      ],
      "text/plain": [
       "   age          job  marital          education default  housing     loan  \\\n",
       "0   30  blue-collar  married           basic.9y      no      yes       no   \n",
       "1   39     services   single        high.school      no       no       no   \n",
       "2   25     services  married        high.school      no      yes       no   \n",
       "3   38     services  married           basic.9y      no  unknown  unknown   \n",
       "4   47       admin.  married  university.degree      no      yes       no   \n",
       "\n",
       "     contact month day_of_week  ...  campaign  pdays  previous     poutcome  \\\n",
       "0   cellular   may         fri  ...         2    999         0  nonexistent   \n",
       "1  telephone   may         fri  ...         4    999         0  nonexistent   \n",
       "2  telephone   jun         wed  ...         1    999         0  nonexistent   \n",
       "3  telephone   jun         fri  ...         3    999         0  nonexistent   \n",
       "4   cellular   nov         mon  ...         1    999         0  nonexistent   \n",
       "\n",
       "  emp.var.rate  cons.price.idx  cons.conf.idx  euribor3m  nr.employed   y  \n",
       "0         -1.8          92.893          -46.2      1.313       5099.1  no  \n",
       "1          1.1          93.994          -36.4      4.855       5191.0  no  \n",
       "2          1.4          94.465          -41.8      4.962       5228.1  no  \n",
       "3          1.4          94.465          -41.8      4.959       5228.1  no  \n",
       "4         -0.1          93.200          -42.0      4.191       5195.8  no  \n",
       "\n",
       "[5 rows x 21 columns]"
      ]
     },
     "execution_count": 3,
     "metadata": {},
     "output_type": "execute_result"
    }
   ],
   "source": [
    "data.head()"
   ]
  },
  {
   "cell_type": "code",
   "execution_count": 4,
   "metadata": {},
   "outputs": [
    {
     "data": {
      "text/plain": [
       "Index(['age', 'job', 'marital', 'education', 'default', 'housing', 'loan',\n",
       "       'contact', 'month', 'day_of_week', 'duration', 'campaign', 'pdays',\n",
       "       'previous', 'poutcome', 'emp.var.rate', 'cons.price.idx',\n",
       "       'cons.conf.idx', 'euribor3m', 'nr.employed', 'y'],\n",
       "      dtype='object')"
      ]
     },
     "execution_count": 4,
     "metadata": {},
     "output_type": "execute_result"
    }
   ],
   "source": [
    "data.columns"
   ]
  },
  {
   "cell_type": "code",
   "execution_count": 5,
   "metadata": {},
   "outputs": [],
   "source": [
    "profile_report = pandas_profiling.ProfileReport(data)"
   ]
  },
  {
   "cell_type": "code",
   "execution_count": 6,
   "metadata": {},
   "outputs": [],
   "source": [
    "profile_report.to_file(\"profile_report.html\")"
   ]
  },
  {
   "cell_type": "code",
   "execution_count": 7,
   "metadata": {},
   "outputs": [],
   "source": [
    "data.drop(['default', 'euribor3m', 'nr.employed', 'cons.price.idx', 'pdays'], axis=1, inplace=True)"
   ]
  },
  {
   "cell_type": "code",
   "execution_count": 8,
   "metadata": {},
   "outputs": [
    {
     "data": {
      "text/plain": [
       "Index(['age', 'job', 'marital', 'education', 'housing', 'loan', 'contact',\n",
       "       'month', 'day_of_week', 'duration', 'campaign', 'previous', 'poutcome',\n",
       "       'emp.var.rate', 'cons.conf.idx', 'y'],\n",
       "      dtype='object')"
      ]
     },
     "execution_count": 8,
     "metadata": {},
     "output_type": "execute_result"
    }
   ],
   "source": [
    "data.columns"
   ]
  },
  {
   "cell_type": "code",
   "execution_count": 9,
   "metadata": {},
   "outputs": [],
   "source": [
    "cat_var = data[['job', 'marital', 'education', 'housing', 'loan', 'month', 'day_of_week','contact', 'poutcome', 'y']]\n",
    "num_var = data[['age',  'duration', 'emp.var.rate', 'cons.conf.idx',  'previous', 'campaign']]"
   ]
  },
  {
   "cell_type": "code",
   "execution_count": 10,
   "metadata": {},
   "outputs": [],
   "source": [
    "def missing_cat(x):\n",
    "    t = x.value_counts()\n",
    "    x[x=='unknown'] = t.index[0]\n",
    "    return x\n",
    "\n",
    "def missing_num(x):\n",
    "    x[x==999] = np.nan\n",
    "    x = x.fillna(x.median())\n",
    "    return x\n",
    "\n",
    "def outlier_capping(x):\n",
    "    x = x.clip_upper(x.quantile(0.99))\n",
    "    x = x.clip_lower(x.quantile(0.01))\n",
    "    return x"
   ]
  },
  {
   "cell_type": "code",
   "execution_count": 11,
   "metadata": {},
   "outputs": [],
   "source": [
    "num_var = num_var.apply(missing_num)\n",
    "num_var = num_var.apply(outlier_capping)\n",
    "cat_var = cat_var.apply(missing_cat)"
   ]
  },
  {
   "cell_type": "code",
   "execution_count": 12,
   "metadata": {},
   "outputs": [],
   "source": [
    "data_final = pd.concat([num_var, cat_var],axis=1)"
   ]
  },
  {
   "cell_type": "code",
   "execution_count": 13,
   "metadata": {},
   "outputs": [],
   "source": [
    "data_final = pd.get_dummies(data_final, columns = cat_var.columns,  drop_first=True)"
   ]
  },
  {
   "cell_type": "code",
   "execution_count": 14,
   "metadata": {},
   "outputs": [],
   "source": [
    "data_final.columns = [i.replace('.', '_') for i in data_final.columns]"
   ]
  },
  {
   "cell_type": "code",
   "execution_count": 15,
   "metadata": {},
   "outputs": [],
   "source": [
    "data_final.columns = [i.replace('-', '_') for i in data_final.columns]"
   ]
  },
  {
   "cell_type": "code",
   "execution_count": 16,
   "metadata": {},
   "outputs": [
    {
     "data": {
      "text/plain": [
       "age                               0.249547\n",
       "duration                          0.911392\n",
       "emp_var_rate                     18.393391\n",
       "cons_conf_idx                    -0.113200\n",
       "previous                          2.715155\n",
       "campaign                          0.897168\n",
       "job_blue_collar                   1.912983\n",
       "job_entrepreneur                  5.179873\n",
       "job_housemaid                     6.037007\n",
       "job_management                    3.422421\n",
       "job_retired                       4.879882\n",
       "job_self_employed                 4.990557\n",
       "job_services                      3.079110\n",
       "job_student                       7.016531\n",
       "job_technician                    2.227314\n",
       "job_unemployed                    6.009002\n",
       "marital_married                   0.796570\n",
       "marital_single                    1.603876\n",
       "education_basic_6y                4.131076\n",
       "education_basic_9y                2.485148\n",
       "education_high_school             1.863414\n",
       "education_illiterate             64.171645\n",
       "education_professional_course     2.588255\n",
       "education_university_degree       1.370550\n",
       "housing_yes                       0.898097\n",
       "loan_yes                          2.279032\n",
       "month_aug                         2.340174\n",
       "month_dec                        13.646511\n",
       "month_jul                         2.189349\n",
       "month_jun                         2.602249\n",
       "month_mar                         9.209370\n",
       "month_may                         1.410360\n",
       "month_nov                         2.869743\n",
       "month_oct                         7.661309\n",
       "month_sep                         7.959860\n",
       "day_of_week_mon                   1.953854\n",
       "day_of_week_thu                   1.946673\n",
       "day_of_week_tue                   1.974270\n",
       "day_of_week_wed                   2.044782\n",
       "contact_telephone                 1.344534\n",
       "poutcome_nonexistent              0.411308\n",
       "poutcome_success                  5.292168\n",
       "y_yes                             2.851848\n",
       "dtype: float64"
      ]
     },
     "execution_count": 16,
     "metadata": {},
     "output_type": "execute_result"
    }
   ],
   "source": [
    "data_final.apply(lambda x: np.std(x)/np.mean(x))"
   ]
  },
  {
   "cell_type": "code",
   "execution_count": 17,
   "metadata": {},
   "outputs": [
    {
     "data": {
      "text/html": [
       "<div>\n",
       "<style scoped>\n",
       "    .dataframe tbody tr th:only-of-type {\n",
       "        vertical-align: middle;\n",
       "    }\n",
       "\n",
       "    .dataframe tbody tr th {\n",
       "        vertical-align: top;\n",
       "    }\n",
       "\n",
       "    .dataframe thead th {\n",
       "        text-align: right;\n",
       "    }\n",
       "</style>\n",
       "<table border=\"1\" class=\"dataframe\">\n",
       "  <thead>\n",
       "    <tr style=\"text-align: right;\">\n",
       "      <th></th>\n",
       "      <th>age</th>\n",
       "      <th>duration</th>\n",
       "      <th>emp_var_rate</th>\n",
       "      <th>cons_conf_idx</th>\n",
       "      <th>previous</th>\n",
       "      <th>campaign</th>\n",
       "      <th>job_blue_collar</th>\n",
       "      <th>job_entrepreneur</th>\n",
       "      <th>job_housemaid</th>\n",
       "      <th>job_management</th>\n",
       "      <th>...</th>\n",
       "      <th>month_oct</th>\n",
       "      <th>month_sep</th>\n",
       "      <th>day_of_week_mon</th>\n",
       "      <th>day_of_week_thu</th>\n",
       "      <th>day_of_week_tue</th>\n",
       "      <th>day_of_week_wed</th>\n",
       "      <th>contact_telephone</th>\n",
       "      <th>poutcome_nonexistent</th>\n",
       "      <th>poutcome_success</th>\n",
       "      <th>y_yes</th>\n",
       "    </tr>\n",
       "  </thead>\n",
       "  <tbody>\n",
       "    <tr>\n",
       "      <td>0</td>\n",
       "      <td>30</td>\n",
       "      <td>487.0</td>\n",
       "      <td>-1.8</td>\n",
       "      <td>-46.2</td>\n",
       "      <td>0</td>\n",
       "      <td>2</td>\n",
       "      <td>1</td>\n",
       "      <td>0</td>\n",
       "      <td>0</td>\n",
       "      <td>0</td>\n",
       "      <td>...</td>\n",
       "      <td>0</td>\n",
       "      <td>0</td>\n",
       "      <td>0</td>\n",
       "      <td>0</td>\n",
       "      <td>0</td>\n",
       "      <td>0</td>\n",
       "      <td>0</td>\n",
       "      <td>1</td>\n",
       "      <td>0</td>\n",
       "      <td>0</td>\n",
       "    </tr>\n",
       "    <tr>\n",
       "      <td>1</td>\n",
       "      <td>39</td>\n",
       "      <td>346.0</td>\n",
       "      <td>1.1</td>\n",
       "      <td>-36.4</td>\n",
       "      <td>0</td>\n",
       "      <td>4</td>\n",
       "      <td>0</td>\n",
       "      <td>0</td>\n",
       "      <td>0</td>\n",
       "      <td>0</td>\n",
       "      <td>...</td>\n",
       "      <td>0</td>\n",
       "      <td>0</td>\n",
       "      <td>0</td>\n",
       "      <td>0</td>\n",
       "      <td>0</td>\n",
       "      <td>0</td>\n",
       "      <td>1</td>\n",
       "      <td>1</td>\n",
       "      <td>0</td>\n",
       "      <td>0</td>\n",
       "    </tr>\n",
       "    <tr>\n",
       "      <td>2</td>\n",
       "      <td>25</td>\n",
       "      <td>227.0</td>\n",
       "      <td>1.4</td>\n",
       "      <td>-41.8</td>\n",
       "      <td>0</td>\n",
       "      <td>1</td>\n",
       "      <td>0</td>\n",
       "      <td>0</td>\n",
       "      <td>0</td>\n",
       "      <td>0</td>\n",
       "      <td>...</td>\n",
       "      <td>0</td>\n",
       "      <td>0</td>\n",
       "      <td>0</td>\n",
       "      <td>0</td>\n",
       "      <td>0</td>\n",
       "      <td>1</td>\n",
       "      <td>1</td>\n",
       "      <td>1</td>\n",
       "      <td>0</td>\n",
       "      <td>0</td>\n",
       "    </tr>\n",
       "    <tr>\n",
       "      <td>3</td>\n",
       "      <td>38</td>\n",
       "      <td>17.0</td>\n",
       "      <td>1.4</td>\n",
       "      <td>-41.8</td>\n",
       "      <td>0</td>\n",
       "      <td>3</td>\n",
       "      <td>0</td>\n",
       "      <td>0</td>\n",
       "      <td>0</td>\n",
       "      <td>0</td>\n",
       "      <td>...</td>\n",
       "      <td>0</td>\n",
       "      <td>0</td>\n",
       "      <td>0</td>\n",
       "      <td>0</td>\n",
       "      <td>0</td>\n",
       "      <td>0</td>\n",
       "      <td>1</td>\n",
       "      <td>1</td>\n",
       "      <td>0</td>\n",
       "      <td>0</td>\n",
       "    </tr>\n",
       "    <tr>\n",
       "      <td>4</td>\n",
       "      <td>47</td>\n",
       "      <td>58.0</td>\n",
       "      <td>-0.1</td>\n",
       "      <td>-42.0</td>\n",
       "      <td>0</td>\n",
       "      <td>1</td>\n",
       "      <td>0</td>\n",
       "      <td>0</td>\n",
       "      <td>0</td>\n",
       "      <td>0</td>\n",
       "      <td>...</td>\n",
       "      <td>0</td>\n",
       "      <td>0</td>\n",
       "      <td>1</td>\n",
       "      <td>0</td>\n",
       "      <td>0</td>\n",
       "      <td>0</td>\n",
       "      <td>0</td>\n",
       "      <td>1</td>\n",
       "      <td>0</td>\n",
       "      <td>0</td>\n",
       "    </tr>\n",
       "  </tbody>\n",
       "</table>\n",
       "<p>5 rows × 43 columns</p>\n",
       "</div>"
      ],
      "text/plain": [
       "   age  duration  emp_var_rate  cons_conf_idx  previous  campaign  \\\n",
       "0   30     487.0          -1.8          -46.2         0         2   \n",
       "1   39     346.0           1.1          -36.4         0         4   \n",
       "2   25     227.0           1.4          -41.8         0         1   \n",
       "3   38      17.0           1.4          -41.8         0         3   \n",
       "4   47      58.0          -0.1          -42.0         0         1   \n",
       "\n",
       "   job_blue_collar  job_entrepreneur  job_housemaid  job_management  ...  \\\n",
       "0                1                 0              0               0  ...   \n",
       "1                0                 0              0               0  ...   \n",
       "2                0                 0              0               0  ...   \n",
       "3                0                 0              0               0  ...   \n",
       "4                0                 0              0               0  ...   \n",
       "\n",
       "   month_oct  month_sep  day_of_week_mon  day_of_week_thu  day_of_week_tue  \\\n",
       "0          0          0                0                0                0   \n",
       "1          0          0                0                0                0   \n",
       "2          0          0                0                0                0   \n",
       "3          0          0                0                0                0   \n",
       "4          0          0                1                0                0   \n",
       "\n",
       "   day_of_week_wed  contact_telephone  poutcome_nonexistent  poutcome_success  \\\n",
       "0                0                  0                     1                 0   \n",
       "1                0                  1                     1                 0   \n",
       "2                1                  1                     1                 0   \n",
       "3                0                  1                     1                 0   \n",
       "4                0                  0                     1                 0   \n",
       "\n",
       "   y_yes  \n",
       "0      0  \n",
       "1      0  \n",
       "2      0  \n",
       "3      0  \n",
       "4      0  \n",
       "\n",
       "[5 rows x 43 columns]"
      ]
     },
     "execution_count": 17,
     "metadata": {},
     "output_type": "execute_result"
    }
   ],
   "source": [
    "data_final.head()"
   ]
  },
  {
   "cell_type": "code",
   "execution_count": 18,
   "metadata": {},
   "outputs": [
    {
     "name": "stdout",
     "output_type": "stream",
     "text": [
      "<class 'pandas.core.frame.DataFrame'>\n",
      "RangeIndex: 4119 entries, 0 to 4118\n",
      "Data columns (total 43 columns):\n",
      "age                              4119 non-null int64\n",
      "duration                         4119 non-null float64\n",
      "emp_var_rate                     4119 non-null float64\n",
      "cons_conf_idx                    4119 non-null float64\n",
      "previous                         4119 non-null int64\n",
      "campaign                         4119 non-null int64\n",
      "job_blue_collar                  4119 non-null uint8\n",
      "job_entrepreneur                 4119 non-null uint8\n",
      "job_housemaid                    4119 non-null uint8\n",
      "job_management                   4119 non-null uint8\n",
      "job_retired                      4119 non-null uint8\n",
      "job_self_employed                4119 non-null uint8\n",
      "job_services                     4119 non-null uint8\n",
      "job_student                      4119 non-null uint8\n",
      "job_technician                   4119 non-null uint8\n",
      "job_unemployed                   4119 non-null uint8\n",
      "marital_married                  4119 non-null uint8\n",
      "marital_single                   4119 non-null uint8\n",
      "education_basic_6y               4119 non-null uint8\n",
      "education_basic_9y               4119 non-null uint8\n",
      "education_high_school            4119 non-null uint8\n",
      "education_illiterate             4119 non-null uint8\n",
      "education_professional_course    4119 non-null uint8\n",
      "education_university_degree      4119 non-null uint8\n",
      "housing_yes                      4119 non-null uint8\n",
      "loan_yes                         4119 non-null uint8\n",
      "month_aug                        4119 non-null uint8\n",
      "month_dec                        4119 non-null uint8\n",
      "month_jul                        4119 non-null uint8\n",
      "month_jun                        4119 non-null uint8\n",
      "month_mar                        4119 non-null uint8\n",
      "month_may                        4119 non-null uint8\n",
      "month_nov                        4119 non-null uint8\n",
      "month_oct                        4119 non-null uint8\n",
      "month_sep                        4119 non-null uint8\n",
      "day_of_week_mon                  4119 non-null uint8\n",
      "day_of_week_thu                  4119 non-null uint8\n",
      "day_of_week_tue                  4119 non-null uint8\n",
      "day_of_week_wed                  4119 non-null uint8\n",
      "contact_telephone                4119 non-null uint8\n",
      "poutcome_nonexistent             4119 non-null uint8\n",
      "poutcome_success                 4119 non-null uint8\n",
      "y_yes                            4119 non-null uint8\n",
      "dtypes: float64(3), int64(3), uint8(37)\n",
      "memory usage: 342.0 KB\n"
     ]
    }
   ],
   "source": [
    "data_final.info()"
   ]
  },
  {
   "cell_type": "code",
   "execution_count": 19,
   "metadata": {},
   "outputs": [
    {
     "data": {
      "text/plain": [
       "Index(['age', 'duration', 'emp_var_rate', 'cons_conf_idx', 'previous',\n",
       "       'campaign', 'job_blue_collar', 'job_entrepreneur', 'job_housemaid',\n",
       "       'job_management', 'job_retired', 'job_self_employed', 'job_services',\n",
       "       'job_student', 'job_technician', 'job_unemployed', 'marital_married',\n",
       "       'marital_single', 'education_basic_6y', 'education_basic_9y',\n",
       "       'education_high_school', 'education_illiterate',\n",
       "       'education_professional_course', 'education_university_degree',\n",
       "       'housing_yes', 'loan_yes', 'month_aug', 'month_dec', 'month_jul',\n",
       "       'month_jun', 'month_mar', 'month_may', 'month_nov', 'month_oct',\n",
       "       'month_sep', 'day_of_week_mon', 'day_of_week_thu', 'day_of_week_tue',\n",
       "       'day_of_week_wed', 'contact_telephone', 'poutcome_nonexistent',\n",
       "       'poutcome_success', 'y_yes'],\n",
       "      dtype='object')"
      ]
     },
     "execution_count": 19,
     "metadata": {},
     "output_type": "execute_result"
    }
   ],
   "source": [
    "data_final.columns"
   ]
  },
  {
   "cell_type": "code",
   "execution_count": 20,
   "metadata": {},
   "outputs": [
    {
     "name": "stdout",
     "output_type": "stream",
     "text": [
      "Optimization terminated successfully.\n",
      "         Current function value: 0.344178\n",
      "         Iterations 6\n",
      "Optimization terminated successfully.\n",
      "         Current function value: 0.341558\n",
      "         Iterations 7\n",
      "Optimization terminated successfully.\n",
      "         Current function value: 0.343930\n",
      "         Iterations 6\n",
      "Optimization terminated successfully.\n",
      "         Current function value: 0.334952\n",
      "         Iterations 7\n",
      "Optimization terminated successfully.\n",
      "         Current function value: 0.345418\n",
      "         Iterations 6\n",
      "Optimization terminated successfully.\n",
      "         Current function value: 0.345447\n",
      "         Iterations 6\n",
      "Optimization terminated successfully.\n",
      "         Current function value: 0.345451\n",
      "         Iterations 6\n",
      "Optimization terminated successfully.\n",
      "         Current function value: 0.345421\n",
      "         Iterations 6\n",
      "Optimization terminated successfully.\n",
      "         Current function value: 0.277749\n",
      "         Iterations 7\n",
      "Optimization terminated successfully.\n",
      "         Current function value: 0.345048\n",
      "         Iterations 6\n",
      "Optimization terminated successfully.\n",
      "         Current function value: 0.344368\n",
      "         Iterations 6\n",
      "Optimization terminated successfully.\n",
      "         Current function value: 0.345427\n",
      "         Iterations 6\n",
      "Optimization terminated successfully.\n",
      "         Current function value: 0.345425\n",
      "         Iterations 16\n",
      "Optimization terminated successfully.\n",
      "         Current function value: 0.345346\n",
      "         Iterations 6\n",
      "Optimization terminated successfully.\n",
      "         Current function value: 0.343923\n",
      "         Iterations 6\n",
      "Optimization terminated successfully.\n",
      "         Current function value: 0.308321\n",
      "         Iterations 7\n",
      "Optimization terminated successfully.\n",
      "         Current function value: 0.345453\n",
      "         Iterations 6\n",
      "Optimization terminated successfully.\n",
      "         Current function value: 0.342927\n",
      "         Iterations 7\n",
      "Optimization terminated successfully.\n",
      "         Current function value: 0.344750\n",
      "         Iterations 7\n",
      "Optimization terminated successfully.\n",
      "         Current function value: 0.345440\n",
      "         Iterations 6\n",
      "Optimization terminated successfully.\n",
      "         Current function value: 0.345323\n",
      "         Iterations 6\n",
      "Optimization terminated successfully.\n",
      "         Current function value: 0.342999\n",
      "         Iterations 6\n",
      "Optimization terminated successfully.\n",
      "         Current function value: 0.345282\n",
      "         Iterations 6\n",
      "Optimization terminated successfully.\n",
      "         Current function value: 0.345215\n",
      "         Iterations 6\n",
      "Optimization terminated successfully.\n",
      "         Current function value: 0.344222\n",
      "         Iterations 6\n",
      "Optimization terminated successfully.\n",
      "         Current function value: 0.345413\n",
      "         Iterations 6\n",
      "Optimization terminated successfully.\n",
      "         Current function value: 0.344981\n",
      "         Iterations 6\n",
      "Optimization terminated successfully.\n",
      "         Current function value: 0.345401\n",
      "         Iterations 6\n",
      "Optimization terminated successfully.\n",
      "         Current function value: 0.344793\n",
      "         Iterations 6\n",
      "Optimization terminated successfully.\n",
      "         Current function value: 0.344257\n",
      "         Iterations 6\n",
      "Optimization terminated successfully.\n",
      "         Current function value: 0.345378\n",
      "         Iterations 6\n",
      "Optimization terminated successfully.\n",
      "         Current function value: 0.342380\n",
      "         Iterations 6\n",
      "Optimization terminated successfully.\n",
      "         Current function value: 0.344653\n",
      "         Iterations 6\n",
      "Optimization terminated successfully.\n",
      "         Current function value: 0.345196\n",
      "         Iterations 6\n",
      "Optimization terminated successfully.\n",
      "         Current function value: 0.337608\n",
      "         Iterations 6\n",
      "Optimization terminated successfully.\n",
      "         Current function value: 0.340009\n",
      "         Iterations 7\n",
      "Optimization terminated successfully.\n",
      "         Current function value: 0.345343\n",
      "         Iterations 6\n",
      "Optimization terminated successfully.\n",
      "         Current function value: 0.341663\n",
      "         Iterations 6\n",
      "Optimization terminated successfully.\n",
      "         Current function value: 0.340804\n",
      "         Iterations 6\n",
      "Optimization terminated successfully.\n",
      "         Current function value: 0.328337\n",
      "         Iterations 6\n",
      "Optimization terminated successfully.\n",
      "         Current function value: 0.315074\n",
      "         Iterations 6\n",
      "Optimization terminated successfully.\n",
      "         Current function value: 0.323025\n",
      "         Iterations 6\n"
     ]
    }
   ],
   "source": [
    "somerced_val = pd.DataFrame()\n",
    "for i_var in data_final.columns.difference(['y_yes']):\n",
    "    model = smf.logit('y_yes~'+str(i_var), data=data_final).fit()\n",
    "    somerce_d = 2*metrics.roc_auc_score(data_final.y_yes, model.predict())-1\n",
    "    temp = pd.DataFrame([i_var, somerce_d]).T\n",
    "    somerced_val = pd.concat([somerced_val, temp], axis=0)"
   ]
  },
  {
   "cell_type": "code",
   "execution_count": 21,
   "metadata": {},
   "outputs": [],
   "source": [
    "somerced_val.columns = ['var', 'SomerceD']"
   ]
  },
  {
   "cell_type": "code",
   "execution_count": 22,
   "metadata": {},
   "outputs": [],
   "source": [
    "somerced_val.sort_values(by = 'SomerceD', inplace=True, ascending=False)"
   ]
  },
  {
   "cell_type": "code",
   "execution_count": 23,
   "metadata": {},
   "outputs": [],
   "source": [
    "somerced_val.to_csv('somerce_d.csv')"
   ]
  },
  {
   "cell_type": "code",
   "execution_count": 24,
   "metadata": {},
   "outputs": [],
   "source": [
    "#RFE\n",
    "X = data_final[data_final.columns.difference(['y_yes'])]\n",
    "y = data_final[['y_yes']]\n",
    "\n",
    "rfe = RFE(RandomForestClassifier(), 10)\n",
    "rfe = rfe.fit(X, y)"
   ]
  },
  {
   "cell_type": "code",
   "execution_count": 25,
   "metadata": {},
   "outputs": [
    {
     "data": {
      "text/plain": [
       "Index(['age', 'campaign', 'cons_conf_idx', 'contact_telephone',\n",
       "       'day_of_week_mon', 'day_of_week_thu', 'day_of_week_tue',\n",
       "       'day_of_week_wed', 'duration', 'education_basic_6y',\n",
       "       'education_basic_9y', 'education_high_school', 'education_illiterate',\n",
       "       'education_professional_course', 'education_university_degree',\n",
       "       'emp_var_rate', 'housing_yes', 'job_blue_collar', 'job_entrepreneur',\n",
       "       'job_housemaid', 'job_management', 'job_retired', 'job_self_employed',\n",
       "       'job_services', 'job_student', 'job_technician', 'job_unemployed',\n",
       "       'loan_yes', 'marital_married', 'marital_single', 'month_aug',\n",
       "       'month_dec', 'month_jul', 'month_jun', 'month_mar', 'month_may',\n",
       "       'month_nov', 'month_oct', 'month_sep', 'poutcome_nonexistent',\n",
       "       'poutcome_success', 'previous'],\n",
       "      dtype='object')"
      ]
     },
     "execution_count": 25,
     "metadata": {},
     "output_type": "execute_result"
    }
   ],
   "source": [
    "X.columns"
   ]
  },
  {
   "cell_type": "code",
   "execution_count": 26,
   "metadata": {},
   "outputs": [
    {
     "data": {
      "text/plain": [
       "Index(['age', 'campaign', 'cons_conf_idx', 'duration',\n",
       "       'education_university_degree', 'emp_var_rate', 'housing_yes',\n",
       "       'marital_married', 'poutcome_success', 'previous'],\n",
       "      dtype='object')"
      ]
     },
     "execution_count": 26,
     "metadata": {},
     "output_type": "execute_result"
    }
   ],
   "source": [
    "X.columns[rfe.get_support()]"
   ]
  },
  {
   "cell_type": "code",
   "execution_count": 27,
   "metadata": {},
   "outputs": [],
   "source": [
    "#SelectKbest\n",
    "SKB = SelectKBest(f_classif, k=10).fit(X, y )"
   ]
  },
  {
   "cell_type": "code",
   "execution_count": 28,
   "metadata": {},
   "outputs": [
    {
     "data": {
      "text/plain": [
       "Index(['contact_telephone', 'duration', 'emp_var_rate', 'month_dec',\n",
       "       'month_mar', 'month_oct', 'month_sep', 'poutcome_nonexistent',\n",
       "       'poutcome_success', 'previous'],\n",
       "      dtype='object')"
      ]
     },
     "execution_count": 28,
     "metadata": {},
     "output_type": "execute_result"
    }
   ],
   "source": [
    "X.columns[SKB.get_support()]"
   ]
  },
  {
   "cell_type": "code",
   "execution_count": 29,
   "metadata": {},
   "outputs": [],
   "source": [
    "#Information value calculation\n",
    "def calculate_woe_iv(dataset, feature, target):\n",
    "    lst = []\n",
    "    for i in range(dataset[feature].nunique()):\n",
    "        val = list(dataset[feature].unique())[i]\n",
    "        lst.append({\n",
    "            'Value': val,\n",
    "            'All': dataset[dataset[feature] == val].count()[feature],\n",
    "            'Good': dataset[(dataset[feature] == val) & (dataset[target] == 0)].count()[feature],\n",
    "            'Bad': dataset[(dataset[feature] == val) & (dataset[target] == 1)].count()[feature]\n",
    "        })\n",
    "        \n",
    "    dset = pd.DataFrame(lst)\n",
    "    dset['Distr_Good'] = dset['Good'] / dset['Good'].sum()\n",
    "    dset['Distr_Bad'] = dset['Bad'] / dset['Bad'].sum()\n",
    "    dset['WoE'] = np.log(dset['Distr_Good'] / dset['Distr_Bad'])\n",
    "    dset = dset.replace({'WoE': {np.inf: 0, -np.inf: 0}})\n",
    "    dset['IV'] = (dset['Distr_Good'] - dset['Distr_Bad']) * dset['WoE']\n",
    "    iv = dset['IV'].sum()\n",
    "    \n",
    "    dset = dset.sort_values(by='WoE')\n",
    "    \n",
    "    return dset, iv"
   ]
  },
  {
   "cell_type": "code",
   "execution_count": 30,
   "metadata": {},
   "outputs": [
    {
     "name": "stdout",
     "output_type": "stream",
     "text": [
      "WoE and IV for column: age\n",
      "    Value  All  Good  Bad  Distr_Good  Distr_Bad       WoE        IV\n",
      "40     64    5     2    3    0.000545   0.006652 -2.501400  0.015275\n",
      "42     66    6     3    3    0.000818   0.006652 -2.095934  0.012228\n",
      "24     68   45    23   22    0.006270   0.048780 -2.051483  0.087209\n",
      "38     61    7     4    3    0.001091   0.006652 -1.808252  0.010056\n",
      "43     62    5     3    2    0.000818   0.004435 -1.690469  0.006114\n",
      "41     63    4     3    1    0.000818   0.002217 -0.997322  0.001396\n",
      "39     67    4     3    1    0.000818   0.002217 -0.997322  0.001396\n",
      "27     60   31    25    6    0.006816   0.013304 -0.668818  0.004339\n",
      "15     50   85    71   14    0.019357   0.031042 -0.472312  0.005519\n",
      "33     59   49    41    8    0.011178   0.017738 -0.461804  0.003030\n",
      "37     26   62    52   10    0.014177   0.022173 -0.447276  0.003577\n",
      "26     58   64    54   10    0.014722   0.022173 -0.409536  0.003051\n",
      "20     33  170   145   25    0.039531   0.055432 -0.338077  0.005376\n",
      "7      31  191   164   27    0.044711   0.059867 -0.291905  0.004424\n",
      "11     27   87    75   12    0.020447   0.026608 -0.263353  0.001622\n",
      "32     54   88    76   12    0.020720   0.026608 -0.250108  0.001473\n",
      "34     57   61    53    8    0.014449   0.017738 -0.205084  0.000675\n",
      "29     52   77    67   10    0.018266   0.022173 -0.193827  0.000757\n",
      "22     48   86    75   11    0.020447   0.024390 -0.176342  0.000695\n",
      "0      30  177   155   22    0.042257   0.048780 -0.143552  0.000936\n",
      "2      25   57    50    7    0.013631   0.015521 -0.129822  0.000245\n",
      "23     24   98    86   12    0.023446   0.026608 -0.126494  0.000400\n",
      "18     28  108    95   13    0.025900   0.028825 -0.107007  0.000313\n",
      "1      39  133   117   16    0.031897   0.035477 -0.106349  0.000381\n",
      "21     51   77    68    9    0.018539   0.019956 -0.073651  0.000104\n",
      "6      41  147   130   17    0.035442   0.037694 -0.061613  0.000139\n",
      "3      38  150   133   17    0.036260   0.037694 -0.038799  0.000056\n",
      "44     65    3     3    0    0.000818   0.000000  0.000000  0.000000\n",
      "12     44   97    87   10    0.023719   0.022173  0.067389  0.000104\n",
      "5      32  216   194   22    0.052890   0.048780  0.080881  0.000332\n",
      "28     37  137   124   13    0.033806   0.028825  0.159398  0.000794\n",
      "10     29  139   126   13    0.034351   0.028825  0.175398  0.000969\n",
      "36     53   78    71    7    0.019357   0.015521  0.220835  0.000847\n",
      "16     55   68    62    6    0.016903   0.013304  0.239440  0.000862\n",
      "14     45  104    95    9    0.025900   0.019956  0.260718  0.001550\n",
      "4      47  107    98    9    0.026718   0.019956  0.291808  0.001973\n",
      "9      36  168   155   13    0.042257   0.028825  0.382541  0.005138\n",
      "31     49   85    79    6    0.021538   0.013304  0.481754  0.003967\n",
      "35     43  108   101    7    0.027535   0.015521  0.573276  0.006888\n",
      "30     42  112   105    7    0.028626   0.015521  0.612116  0.008022\n",
      "19     34  174   164   10    0.044711   0.022173  0.701347  0.015807\n",
      "8      35  172   164    8    0.044711   0.017738  0.924490  0.024936\n",
      "25     56   75    72    3    0.019629   0.006652  1.082119  0.014043\n",
      "17     40  103    99    4    0.026990   0.008869  1.112891  0.020167\n",
      "13     46   99    96    3    0.026172   0.006652  1.369801  0.026739\n",
      "IV score: 0.30\n",
      "\n",
      "\n",
      "WoE and IV for column: duration\n",
      "     Value  All  Good  Bad  Distr_Good  Distr_Bad       WoE        IV\n",
      "458  458.0    6     1    5    0.000273   0.011086 -3.705372  0.040069\n",
      "243  617.0    4     1    3    0.000273   0.006652 -3.194547  0.020379\n",
      "263  712.0    3     1    2    0.000273   0.004435 -2.789082  0.011608\n",
      "390  767.0    3     1    2    0.000273   0.004435 -2.789082  0.011608\n",
      "442  653.0    3     1    2    0.000273   0.004435 -2.789082  0.011608\n",
      "..     ...  ...   ...  ...         ...        ...       ...       ...\n",
      "57   204.0   17    16    1    0.004362   0.002217  0.676654  0.001451\n",
      "230  155.0   18    17    1    0.004635   0.002217  0.737279  0.001782\n",
      "329  107.0   18    17    1    0.004635   0.002217  0.737279  0.001782\n",
      "179  159.0   18    17    1    0.004635   0.002217  0.737279  0.001782\n",
      "320  131.0   19    18    1    0.004907   0.002217  0.794437  0.002137\n",
      "\n",
      "[779 rows x 8 columns]\n",
      "IV score: 0.76\n",
      "\n",
      "\n",
      "WoE and IV for column: emp_var_rate\n",
      "   Value   All  Good  Bad  Distr_Good  Distr_Bad       WoE        IV\n",
      "8   -3.0    21     9   12    0.002454   0.026608 -2.383617  0.057574\n",
      "6   -1.7    87    42   45    0.011450   0.099778 -2.164927  0.191223\n",
      "4   -1.1    83    48   35    0.013086   0.077605 -1.780082  0.114849\n",
      "7   -3.4   104    65   39    0.017721   0.086475 -1.585109  0.108982\n",
      "5   -2.9   164   107   57    0.029171   0.126386 -1.466157  0.142532\n",
      "0   -1.8   883   754  129    0.205562   0.286031 -0.330355  0.026583\n",
      "9   -0.2     1     1    0    0.000273   0.000000  0.000000  0.000000\n",
      "2    1.4  1626  1537   89    0.419029   0.197339  0.753017  0.166936\n",
      "3   -0.1   392   372   20    0.101418   0.044346  0.827227  0.047211\n",
      "1    1.1   758   733   25    0.199836   0.055432  1.282335  0.185174\n",
      "IV score: 1.04\n",
      "\n",
      "\n",
      "WoE and IV for column: cons_conf_idx\n",
      "    Value  All  Good  Bad  Distr_Good  Distr_Bad       WoE        IV\n",
      "7   -34.8   23     8   15    0.002181   0.033259 -2.724543  0.084674\n",
      "14  -34.6   14     5    9    0.001363   0.019956 -2.683721  0.049897\n",
      "16  -39.8   24     9   15    0.002454   0.033259 -2.606760  0.080303\n",
      "21  -40.0   23     9   14    0.002454   0.031042 -2.537767  0.072551\n",
      "23  -33.0   21     9   12    0.002454   0.026608 -2.383617  0.057574\n",
      "11  -38.3   33    16   17    0.004362   0.037694 -2.156559  0.071882\n",
      "22  -40.4    6     3    3    0.000818   0.006652 -2.095934  0.012228\n",
      "8   -50.0   49    26   23    0.007088   0.050998 -1.973332  0.086648\n",
      "4   -37.5   39    21   18    0.005725   0.039911 -1.941784  0.066382\n",
      "19  -30.1   36    20   16    0.005453   0.035477 -1.872791  0.056229\n",
      "20  -40.3   30    17   13    0.004635   0.028825 -1.827671  0.044212\n",
      "9   -40.8   75    45   30    0.012268   0.066519 -1.690469  0.091709\n",
      "10  -49.5   20    13    7    0.003544   0.015521 -1.476895  0.017689\n",
      "13  -26.9   43    28   15    0.007634   0.033259 -1.471780  0.037716\n",
      "12  -29.8   25    17    8    0.004635   0.017738 -1.342163  0.017587\n",
      "18  -31.4   75    51   24    0.013904   0.053215 -1.342163  0.052762\n",
      "17  -33.6   14    11    3    0.002999   0.006652 -0.796652  0.002910\n",
      "15  -47.1  201   174   27    0.047437   0.059867 -0.232716  0.002893\n",
      "24  -45.9    1     1    0    0.000273   0.000000  0.000000  0.000000\n",
      "0   -46.2  597   546   51    0.148855   0.113082  0.274859  0.009833\n",
      "5   -42.7  667   624   43    0.170120   0.095344  0.579016  0.043297\n",
      "2   -41.8  431   408   23    0.111232   0.050998  0.779838  0.046973\n",
      "3   -42.0  386   369   17    0.100600   0.037694  0.981649  0.061751\n",
      "6   -36.1  528   505   23    0.137677   0.050998  0.993130  0.086084\n",
      "1   -36.4  758   733   25    0.199836   0.055432  1.282335  0.185174\n",
      "IV score: 1.34\n",
      "\n",
      "\n",
      "WoE and IV for column: previous\n",
      "   Value   All  Good  Bad  Distr_Good  Distr_Bad       WoE        IV\n",
      "3      3    43    15   28    0.004089   0.062084 -2.720089  0.157751\n",
      "1      2    78    46   32    0.012541   0.070953 -1.733029  0.101231\n",
      "2      1   475   376   99    0.102508   0.219512 -0.761465  0.089094\n",
      "0      0  3523  3231  292    0.880862   0.647450  0.307859  0.071858\n",
      "IV score: 0.42\n",
      "\n",
      "\n",
      "WoE and IV for column: campaign\n",
      "    Value   All  Good  Bad  Distr_Good  Distr_Bad       WoE        IV\n",
      "2       1  1764  1545  219    0.421210   0.485588 -0.142227  0.009156\n",
      "0       2  1039   920  119    0.250818   0.263858 -0.050684  0.000661\n",
      "3       3   549   487   62    0.132770   0.137472 -0.034805  0.000164\n",
      "1       4   291   259   32    0.070611   0.070953 -0.004842  0.000002\n",
      "6      13    52    52    0    0.014177   0.000000  0.000000  0.000000\n",
      "8      12    16    16    0    0.004362   0.000000  0.000000  0.000000\n",
      "7       5   142   133    9    0.036260   0.019956  0.597190  0.009737\n",
      "10      8    36    34    2    0.009269   0.004435  0.737279  0.003565\n",
      "11     11    19    18    1    0.004907   0.002217  0.794437  0.002137\n",
      "9      10    20    19    1    0.005180   0.002217  0.848504  0.002514\n",
      "4       6    99    95    4    0.025900   0.008869  1.071648  0.018251\n",
      "12      9    32    31    1    0.008451   0.002217  1.338053  0.008342\n",
      "5       7    60    59    1    0.016085   0.002217  1.981603  0.027480\n",
      "IV score: 0.08\n",
      "\n",
      "\n",
      "WoE and IV for column: job_blue_collar\n"
     ]
    },
    {
     "name": "stdout",
     "output_type": "stream",
     "text": [
      "   Value   All  Good  Bad  Distr_Good  Distr_Bad       WoE        IV\n",
      "1      0  3235  2845  390    0.775627   0.864745 -0.108763  0.009693\n",
      "0      1   884   823   61    0.224373   0.135255  0.506148  0.045107\n",
      "IV score: 0.05\n",
      "\n",
      "\n",
      "WoE and IV for column: job_entrepreneur\n",
      "   Value   All  Good  Bad  Distr_Good  Distr_Bad       WoE        IV\n",
      "0      0  3971  3528  443    0.961832   0.982262 -0.021018  0.000429\n",
      "1      1   148   140    8    0.038168   0.017738  0.766266  0.015655\n",
      "IV score: 0.02\n",
      "\n",
      "\n",
      "WoE and IV for column: job_housemaid\n",
      "   Value   All  Good  Bad  Distr_Good  Distr_Bad       WoE        IV\n",
      "0      0  4009  3569  440     0.97301    0.97561 -0.002668  0.000007\n",
      "1      1   110    99   11     0.02699    0.02439  0.101290  0.000263\n",
      "IV score: 0.00\n",
      "\n",
      "\n",
      "WoE and IV for column: job_management\n",
      "   Value   All  Good  Bad  Distr_Good  Distr_Bad       WoE        IV\n",
      "0      0  3795  3374  421    0.919847   0.933481 -0.014713  0.000201\n",
      "1      1   324   294   30    0.080153   0.066519  0.186448  0.002542\n",
      "IV score: 0.00\n",
      "\n",
      "\n",
      "WoE and IV for column: job_retired\n",
      "   Value   All  Good  Bad  Distr_Good  Distr_Bad      WoE        IV\n",
      "1      1   166   128   38    0.034896   0.084257 -0.88149  0.043511\n",
      "0      0  3953  3540  413    0.965104   0.915743  0.05250  0.002591\n",
      "IV score: 0.05\n",
      "\n",
      "\n",
      "WoE and IV for column: job_self_employed\n",
      "   Value   All  Good  Bad  Distr_Good  Distr_Bad       WoE        IV\n",
      "0      0  3960  3522  438    0.960196   0.971175 -0.011369  0.000125\n",
      "1      1   159   146   13    0.039804   0.028825  0.322723  0.003543\n",
      "IV score: 0.00\n",
      "\n",
      "\n",
      "WoE and IV for column: job_services\n",
      "   Value   All  Good  Bad  Distr_Good  Distr_Bad       WoE        IV\n",
      "0      0  3726  3310  416    0.902399   0.922395 -0.021916  0.000438\n",
      "1      1   393   358   35    0.097601   0.077605  0.229250  0.004584\n",
      "IV score: 0.01\n",
      "\n",
      "\n",
      "WoE and IV for column: job_student\n",
      "   Value   All  Good  Bad  Distr_Good  Distr_Bad       WoE        IV\n",
      "1      1    82    63   19    0.017176   0.042129 -0.897239  0.022389\n",
      "0      0  4037  3605  432    0.982824   0.957871  0.025717  0.000642\n",
      "IV score: 0.02\n",
      "\n",
      "\n",
      "WoE and IV for column: job_technician\n",
      "   Value   All  Good  Bad  Distr_Good  Distr_Bad       WoE        IV\n",
      "1      1   691   611   80    0.166576   0.177384 -0.062864  0.000679\n",
      "0      0  3428  3057  371    0.833424   0.822616  0.013053  0.000141\n",
      "IV score: 0.00\n",
      "\n",
      "\n",
      "WoE and IV for column: job_unemployed\n",
      "   Value   All  Good  Bad  Distr_Good  Distr_Bad       WoE        IV\n",
      "1      1   111    92   19    0.025082   0.042129 -0.518585  0.008840\n",
      "0      0  4008  3576  432    0.974918   0.957871  0.017640  0.000301\n",
      "IV score: 0.01\n",
      "\n",
      "\n",
      "WoE and IV for column: marital_married\n",
      "   Value   All  Good  Bad  Distr_Good  Distr_Bad       WoE        IV\n",
      "1      0  1599  1401  198    0.381952   0.439024 -0.139260  0.007948\n",
      "0      1  2520  2267  253    0.618048   0.560976  0.096889  0.005530\n",
      "IV score: 0.01\n",
      "\n",
      "\n",
      "WoE and IV for column: marital_single\n",
      "   Value   All  Good  Bad  Distr_Good  Distr_Bad       WoE        IV\n",
      "1      1  1153   998  155    0.272083   0.343681 -0.233606  0.016726\n",
      "0      0  2966  2670  296    0.727917   0.656319  0.103540  0.007413\n",
      "IV score: 0.02\n",
      "\n",
      "\n",
      "WoE and IV for column: education_basic_6y\n",
      "   Value   All  Good  Bad  Distr_Good  Distr_Bad       WoE        IV\n",
      "0      0  3891  3457  434    0.942475   0.962306 -0.020823  0.000413\n",
      "1      1   228   211   17    0.057525   0.037694  0.422710  0.008383\n",
      "IV score: 0.01\n",
      "\n",
      "\n",
      "WoE and IV for column: education_basic_9y\n",
      "   Value   All  Good  Bad  Distr_Good  Distr_Bad       WoE        IV\n",
      "1      0  3545  3137  408    0.855234   0.904656 -0.056179  0.002776\n",
      "0      1   574   531   43    0.144766   0.095344  0.417627  0.020640\n",
      "IV score: 0.02\n",
      "\n",
      "\n",
      "WoE and IV for column: education_high_school\n",
      "   Value   All  Good  Bad  Distr_Good  Distr_Bad       WoE        IV\n",
      "0      0  3198  2844  354    0.775354   0.784922 -0.012265  0.000117\n",
      "1      1   921   824   97    0.224646   0.215078  0.043525  0.000416\n",
      "IV score: 0.00\n",
      "\n",
      "\n",
      "WoE and IV for column: education_illiterate\n",
      "   Value   All  Good  Bad  Distr_Good  Distr_Bad       WoE            IV\n",
      "0      0  4118  3667  451    0.999727        1.0 -0.000273  7.433623e-08\n",
      "1      1     1     1    0    0.000273        0.0  0.000000  0.000000e+00\n",
      "IV score: 0.00\n",
      "\n",
      "\n",
      "WoE and IV for column: education_professional_course\n",
      "   Value   All  Good  Bad  Distr_Good  Distr_Bad       WoE        IV\n",
      "1      1   535   470   65    0.128135   0.144124 -0.117589  0.001880\n",
      "0      0  3584  3198  386    0.871865   0.855876  0.018509  0.000296\n",
      "IV score: 0.00\n",
      "\n",
      "\n",
      "WoE and IV for column: education_university_degree\n",
      "   Value   All  Good  Bad  Distr_Good  Distr_Bad       WoE        IV\n",
      "1      1  1431  1240  191    0.338059   0.423503 -0.225341  0.019254\n",
      "0      0  2688  2428  260    0.661941   0.576497  0.138207  0.011809\n",
      "IV score: 0.03\n",
      "\n",
      "\n",
      "WoE and IV for column: housing_yes\n",
      "   Value   All  Good  Bad  Distr_Good  Distr_Bad       WoE        IV\n",
      "1      0  1839  1637  202    0.446292   0.447894 -0.003582  0.000006\n",
      "0      1  2280  2031  249    0.553708   0.552106  0.002896  0.000005\n",
      "IV score: 0.00\n",
      "\n",
      "\n",
      "WoE and IV for column: loan_yes\n",
      "   Value   All  Good  Bad  Distr_Good  Distr_Bad       WoE        IV\n",
      "0      0  3454  3071  383    0.837241   0.849224 -0.014211  0.000170\n",
      "1      1   665   597   68    0.162759   0.150776  0.076475  0.000916\n",
      "IV score: 0.00\n",
      "\n",
      "\n",
      "WoE and IV for column: month_aug\n",
      "   Value   All  Good  Bad  Distr_Good  Distr_Bad       WoE        IV\n",
      "0      0  3483  3096  387    0.844057   0.858093 -0.016493  0.000232\n",
      "1      1   636   572   64    0.155943   0.141907  0.094321  0.001324\n",
      "IV score: 0.00\n",
      "\n",
      "\n",
      "WoE and IV for column: month_dec\n",
      "   Value   All  Good  Bad  Distr_Good  Distr_Bad       WoE        IV\n",
      "1      1    22    10   12    0.002726   0.026608 -2.278256  0.054408\n",
      "0      0  4097  3658  439    0.997274   0.973392  0.024238  0.000579\n",
      "IV score: 0.05\n",
      "\n",
      "\n",
      "WoE and IV for column: month_jul\n",
      "   Value   All  Good  Bad  Distr_Good  Distr_Bad       WoE        IV\n",
      "0      0  3408  3016  392    0.822246    0.86918 -0.055510  0.002605\n",
      "1      1   711   652   59    0.177754    0.13082  0.306573  0.014388\n",
      "IV score: 0.02\n",
      "\n",
      "\n",
      "WoE and IV for column: month_jun\n",
      "   Value   All  Good  Bad  Distr_Good  Distr_Bad       WoE        IV\n",
      "1      1   530   462   68    0.125954   0.150776 -0.179877  0.004465\n",
      "0      0  3589  3206  383    0.874046   0.849224  0.028810  0.000715\n",
      "IV score: 0.01\n",
      "\n",
      "\n",
      "WoE and IV for column: month_mar\n",
      "   Value   All  Good  Bad  Distr_Good  Distr_Bad       WoE        IV\n",
      "1      1    48    20   28    0.005453   0.062084 -2.432407  0.137751\n",
      "0      0  4071  3648  423    0.994547   0.937916  0.058628  0.003320\n",
      "IV score: 0.14\n",
      "\n",
      "\n",
      "WoE and IV for column: month_may\n",
      "   Value   All  Good  Bad  Distr_Good  Distr_Bad       WoE        IV\n",
      "1      0  2741  2380  361    0.648855   0.800443 -0.209957  0.031827\n",
      "0      1  1378  1288   90    0.351145   0.199557  0.565102  0.085663\n",
      "IV score: 0.12\n",
      "\n",
      "\n",
      "WoE and IV for column: month_nov\n",
      "   Value   All  Good  Bad  Distr_Good  Distr_Bad       WoE        IV\n",
      "0      0  3673  3265  408    0.890131   0.904656 -0.016187  0.000235\n",
      "1      1   446   403   43    0.109869   0.095344  0.141802  0.002060\n",
      "IV score: 0.00\n",
      "\n",
      "\n",
      "WoE and IV for column: month_oct\n",
      "   Value   All  Good  Bad  Distr_Good  Distr_Bad       WoE        IV\n",
      "1      1    69    44   25    0.011996   0.055432 -1.530621  0.066485\n",
      "0      0  4050  3624  426    0.988004   0.944568  0.044960  0.001953\n",
      "IV score: 0.07\n",
      "\n",
      "\n",
      "WoE and IV for column: month_sep\n",
      "   Value   All  Good  Bad  Distr_Good  Distr_Bad       WoE        IV\n",
      "1      1    64    38   26     0.01036    0.05765 -1.716445  0.081170\n",
      "0      0  4055  3630  425     0.98964    0.94235  0.048964  0.002316\n",
      "IV score: 0.08\n",
      "\n",
      "\n",
      "WoE and IV for column: day_of_week_mon\n",
      "   Value   All  Good  Bad  Distr_Good  Distr_Bad       WoE        IV\n",
      "1      1   855   757   98    0.206379   0.217295 -0.051539  0.000563\n",
      "0      0  3264  2911  353    0.793621   0.782705  0.013849  0.000151\n",
      "IV score: 0.00\n",
      "\n",
      "\n",
      "WoE and IV for column: day_of_week_thu\n",
      "   Value   All  Good  Bad  Distr_Good  Distr_Bad       WoE        IV\n",
      "1      1   860   764   96    0.208288    0.21286 -0.021715  0.000099\n",
      "0      0  3259  2904  355    0.791712    0.78714  0.005792  0.000026\n",
      "IV score: 0.00\n",
      "\n",
      "\n",
      "WoE and IV for column: day_of_week_tue\n",
      "   Value   All  Good  Bad  Distr_Good  Distr_Bad       WoE        IV\n",
      "0      0  3278  2918  360    0.795529   0.798226 -0.003385  0.000009\n",
      "1      1   841   750   91    0.204471   0.201774  0.013279  0.000036\n",
      "IV score: 0.00\n",
      "\n",
      "\n",
      "WoE and IV for column: day_of_week_wed\n",
      "   Value   All  Good  Bad  Distr_Good  Distr_Bad       WoE        IV\n",
      "0      0  3324  2956  368    0.805889   0.815965 -0.012425  0.000125\n",
      "1      1   795   712   83    0.194111   0.184035  0.053303  0.000537\n",
      "IV score: 0.00\n",
      "\n",
      "\n",
      "WoE and IV for column: contact_telephone\n",
      "   Value   All  Good  Bad  Distr_Good  Distr_Bad       WoE       IV\n",
      "0      0  2652  2277  375    0.620774   0.831486 -0.292246  0.06158\n",
      "1      1  1467  1391   76    0.379226   0.168514  0.811110  0.17091\n",
      "IV score: 0.23\n",
      "\n",
      "\n",
      "WoE and IV for column: poutcome_nonexistent\n",
      "   Value   All  Good  Bad  Distr_Good  Distr_Bad       WoE        IV\n",
      "1      0   596   437  159    0.119138    0.35255 -1.084906  0.253229\n",
      "0      1  3523  3231  292    0.880862    0.64745  0.307859  0.071858\n",
      "IV score: 0.33\n",
      "\n",
      "\n",
      "WoE and IV for column: poutcome_success\n",
      "   Value   All  Good  Bad  Distr_Good  Distr_Bad      WoE        IV\n",
      "1      1   142    50   92    0.013631   0.203991 -2.70570  0.515056\n",
      "0      0  3977  3618  359    0.986369   0.796009  0.21442  0.040817\n",
      "IV score: 0.56\n",
      "\n",
      "\n"
     ]
    }
   ],
   "source": [
    "for col in data_final.columns:\n",
    "    if col == 'y_yes': continue\n",
    "    else:\n",
    "        print('WoE and IV for column: {}'.format(col))\n",
    "        df, iv = calculate_woe_iv(data_final, col, 'y_yes')\n",
    "        print(df)\n",
    "        print('IV score: {:.2f}'.format(iv))\n",
    "        print('\\n')"
   ]
  },
  {
   "cell_type": "code",
   "execution_count": 31,
   "metadata": {},
   "outputs": [],
   "source": [
    "#Final List\n",
    "\n",
    "Final_list = [\n",
    "    'duration',\n",
    "'emp_var_rate',\n",
    "'previous',\n",
    "'poutcome_nonexistent',\n",
    "'contact_telephone',\n",
    "'poutcome_success',\n",
    "'month_may',\n",
    "#'campaign',\n",
    "'job_blue_collar',\n",
    "#'cons_conf_idx',\n",
    "#'age',\n",
    "'day_of_week_thu',\n",
    "'month_dec',\n",
    "'housing_yes',\n",
    "#'marital_married',\n",
    "'month_mar',\n",
    "'month_oct',\n",
    "'month_sep'\n",
    "\n",
    "]"
   ]
  },
  {
   "cell_type": "code",
   "execution_count": 32,
   "metadata": {},
   "outputs": [],
   "source": [
    "X_new = X[Final_list]\n",
    "y = y"
   ]
  },
  {
   "cell_type": "code",
   "execution_count": 33,
   "metadata": {},
   "outputs": [
    {
     "data": {
      "text/plain": [
       "range(0, 14)"
      ]
     },
     "execution_count": 33,
     "metadata": {},
     "output_type": "execute_result"
    }
   ],
   "source": [
    "range(X_new.shape[1])"
   ]
  },
  {
   "cell_type": "code",
   "execution_count": 34,
   "metadata": {},
   "outputs": [],
   "source": [
    "### VIF Calculation for variables\n",
    "vif = pd.DataFrame()\n",
    "vif[\"VIF_Factor\"] = [variance_inflation_factor(X_new.values, i) for i in range(X_new.shape[1])]\n",
    "vif[\"features\"] = X_new.columns"
   ]
  },
  {
   "cell_type": "code",
   "execution_count": 35,
   "metadata": {},
   "outputs": [
    {
     "data": {
      "text/html": [
       "<div>\n",
       "<style scoped>\n",
       "    .dataframe tbody tr th:only-of-type {\n",
       "        vertical-align: middle;\n",
       "    }\n",
       "\n",
       "    .dataframe tbody tr th {\n",
       "        vertical-align: top;\n",
       "    }\n",
       "\n",
       "    .dataframe thead th {\n",
       "        text-align: right;\n",
       "    }\n",
       "</style>\n",
       "<table border=\"1\" class=\"dataframe\">\n",
       "  <thead>\n",
       "    <tr style=\"text-align: right;\">\n",
       "      <th></th>\n",
       "      <th>VIF_Factor</th>\n",
       "      <th>features</th>\n",
       "    </tr>\n",
       "  </thead>\n",
       "  <tbody>\n",
       "    <tr>\n",
       "      <td>3</td>\n",
       "      <td>4.417267</td>\n",
       "      <td>poutcome_nonexistent</td>\n",
       "    </tr>\n",
       "    <tr>\n",
       "      <td>4</td>\n",
       "      <td>2.306712</td>\n",
       "      <td>contact_telephone</td>\n",
       "    </tr>\n",
       "    <tr>\n",
       "      <td>10</td>\n",
       "      <td>2.204365</td>\n",
       "      <td>housing_yes</td>\n",
       "    </tr>\n",
       "    <tr>\n",
       "      <td>0</td>\n",
       "      <td>2.162618</td>\n",
       "      <td>duration</td>\n",
       "    </tr>\n",
       "    <tr>\n",
       "      <td>6</td>\n",
       "      <td>2.016512</td>\n",
       "      <td>month_may</td>\n",
       "    </tr>\n",
       "    <tr>\n",
       "      <td>2</td>\n",
       "      <td>2.006770</td>\n",
       "      <td>previous</td>\n",
       "    </tr>\n",
       "    <tr>\n",
       "      <td>1</td>\n",
       "      <td>1.754670</td>\n",
       "      <td>emp_var_rate</td>\n",
       "    </tr>\n",
       "    <tr>\n",
       "      <td>5</td>\n",
       "      <td>1.429760</td>\n",
       "      <td>poutcome_success</td>\n",
       "    </tr>\n",
       "    <tr>\n",
       "      <td>7</td>\n",
       "      <td>1.297209</td>\n",
       "      <td>job_blue_collar</td>\n",
       "    </tr>\n",
       "    <tr>\n",
       "      <td>8</td>\n",
       "      <td>1.260153</td>\n",
       "      <td>day_of_week_thu</td>\n",
       "    </tr>\n",
       "    <tr>\n",
       "      <td>12</td>\n",
       "      <td>1.122113</td>\n",
       "      <td>month_oct</td>\n",
       "    </tr>\n",
       "    <tr>\n",
       "      <td>13</td>\n",
       "      <td>1.112158</td>\n",
       "      <td>month_sep</td>\n",
       "    </tr>\n",
       "    <tr>\n",
       "      <td>11</td>\n",
       "      <td>1.055929</td>\n",
       "      <td>month_mar</td>\n",
       "    </tr>\n",
       "    <tr>\n",
       "      <td>9</td>\n",
       "      <td>1.043491</td>\n",
       "      <td>month_dec</td>\n",
       "    </tr>\n",
       "  </tbody>\n",
       "</table>\n",
       "</div>"
      ],
      "text/plain": [
       "    VIF_Factor              features\n",
       "3     4.417267  poutcome_nonexistent\n",
       "4     2.306712     contact_telephone\n",
       "10    2.204365           housing_yes\n",
       "0     2.162618              duration\n",
       "6     2.016512             month_may\n",
       "2     2.006770              previous\n",
       "1     1.754670          emp_var_rate\n",
       "5     1.429760      poutcome_success\n",
       "7     1.297209       job_blue_collar\n",
       "8     1.260153       day_of_week_thu\n",
       "12    1.122113             month_oct\n",
       "13    1.112158             month_sep\n",
       "11    1.055929             month_mar\n",
       "9     1.043491             month_dec"
      ]
     },
     "execution_count": 35,
     "metadata": {},
     "output_type": "execute_result"
    }
   ],
   "source": [
    "vif.sort_values(by='VIF_Factor',ascending=False)"
   ]
  },
  {
   "cell_type": "code",
   "execution_count": 36,
   "metadata": {},
   "outputs": [],
   "source": [
    "data_final1 = pd.concat([X_new, y], axis=1)"
   ]
  },
  {
   "cell_type": "code",
   "execution_count": 37,
   "metadata": {},
   "outputs": [],
   "source": [
    "#split the data into train & test (70%:30%)\n",
    "train, test = train_test_split(data_final1, test_size = 0.3, random_state=123 )"
   ]
  },
  {
   "cell_type": "code",
   "execution_count": 38,
   "metadata": {},
   "outputs": [
    {
     "data": {
      "text/plain": [
       "(2883, 15)"
      ]
     },
     "execution_count": 38,
     "metadata": {},
     "output_type": "execute_result"
    }
   ],
   "source": [
    "train.shape"
   ]
  },
  {
   "cell_type": "code",
   "execution_count": 39,
   "metadata": {},
   "outputs": [
    {
     "data": {
      "text/plain": [
       "(1236, 15)"
      ]
     },
     "execution_count": 39,
     "metadata": {},
     "output_type": "execute_result"
    }
   ],
   "source": [
    "test.shape"
   ]
  },
  {
   "cell_type": "code",
   "execution_count": 40,
   "metadata": {},
   "outputs": [],
   "source": [
    "eqn = 'y_yes~ '+'+'.join(X_new.columns.difference(['contact_telephone', 'month_oct', 'housing_yes', 'day_of_week_thu', 'month_dec', 'job_blue_collar' ]))"
   ]
  },
  {
   "cell_type": "code",
   "execution_count": 41,
   "metadata": {},
   "outputs": [
    {
     "name": "stdout",
     "output_type": "stream",
     "text": [
      "Optimization terminated successfully.\n",
      "         Current function value: 0.198051\n",
      "         Iterations 8\n"
     ]
    }
   ],
   "source": [
    "#Implementation Model building\n",
    "#Logistic Regression\n",
    "\n",
    "logit_model = smf.logit(formula = eqn, data=train).fit()"
   ]
  },
  {
   "cell_type": "code",
   "execution_count": 42,
   "metadata": {},
   "outputs": [
    {
     "name": "stdout",
     "output_type": "stream",
     "text": [
      "                           Logit Regression Results                           \n",
      "==============================================================================\n",
      "Dep. Variable:                  y_yes   No. Observations:                 2883\n",
      "Model:                          Logit   Df Residuals:                     2874\n",
      "Method:                           MLE   Df Model:                            8\n",
      "Date:                Fri, 20 Dec 2019   Pseudo R-squ.:                  0.4160\n",
      "Time:                        09:10:55   Log-Likelihood:                -570.98\n",
      "converged:                       True   LL-Null:                       -977.64\n",
      "Covariance Type:            nonrobust   LLR p-value:                2.773e-170\n",
      "========================================================================================\n",
      "                           coef    std err          z      P>|z|      [0.025      0.975]\n",
      "----------------------------------------------------------------------------------------\n",
      "Intercept               -5.3222      0.422    -12.600      0.000      -6.150      -4.494\n",
      "duration                 0.0055      0.000     17.747      0.000       0.005       0.006\n",
      "emp_var_rate            -0.6566      0.055    -11.837      0.000      -0.765      -0.548\n",
      "month_mar                2.2181      0.406      5.466      0.000       1.423       3.013\n",
      "month_may               -0.9119      0.188     -4.847      0.000      -1.281      -0.543\n",
      "month_sep                0.9128      0.396      2.305      0.021       0.137       1.689\n",
      "poutcome_nonexistent     0.9652      0.393      2.459      0.014       0.196       1.734\n",
      "poutcome_success         2.1440      0.318      6.749      0.000       1.521       2.767\n",
      "previous                 0.5657      0.243      2.332      0.020       0.090       1.041\n",
      "========================================================================================\n"
     ]
    }
   ],
   "source": [
    "print(logit_model.summary())"
   ]
  },
  {
   "cell_type": "markdown",
   "metadata": {},
   "source": [
    "#Mathematical equation:\n",
    "LE =  0.0055*duration -0.6566*emp_var_rate+2.2181*month_mar-0.9119*month_may+0.9128*month_sep+0.9652*poutcome_nonexistent+2.1440*poutcome_success+0.5657*previous-5.3222\n",
    "P(y_yes=1) = exp(LE)/(1+exp(LE))"
   ]
  },
  {
   "cell_type": "code",
   "execution_count": 43,
   "metadata": {},
   "outputs": [],
   "source": [
    "train['pred_prob'] =logit_model.predict(train)"
   ]
  },
  {
   "cell_type": "code",
   "execution_count": 44,
   "metadata": {},
   "outputs": [],
   "source": [
    "test['pred_prob'] =logit_model.predict(test)"
   ]
  },
  {
   "cell_type": "code",
   "execution_count": 45,
   "metadata": {},
   "outputs": [
    {
     "name": "stdout",
     "output_type": "stream",
     "text": [
      "0.8690821818034677\n"
     ]
    }
   ],
   "source": [
    "train_Gini = 2*metrics.roc_auc_score(train.y_yes, train.pred_prob)-1\n",
    "print(train_Gini)"
   ]
  },
  {
   "cell_type": "code",
   "execution_count": 46,
   "metadata": {},
   "outputs": [
    {
     "name": "stdout",
     "output_type": "stream",
     "text": [
      "0.8619569088319088\n"
     ]
    }
   ],
   "source": [
    "test_Gini = 2*metrics.roc_auc_score(test.y_yes, test.pred_prob)-1\n",
    "print(test_Gini)"
   ]
  },
  {
   "cell_type": "code",
   "execution_count": 47,
   "metadata": {},
   "outputs": [
    {
     "data": {
      "text/plain": [
       "2883"
      ]
     },
     "execution_count": 47,
     "metadata": {},
     "output_type": "execute_result"
    }
   ],
   "source": [
    "train.y_yes.count()"
   ]
  },
  {
   "cell_type": "code",
   "execution_count": 49,
   "metadata": {},
   "outputs": [],
   "source": [
    "roc_df = pd.DataFrame()\n",
    "for cut_off in np.linspace(0,1):\n",
    "    #roc_df_temp['cut_off'] = cut_off\n",
    "    train['y_pred'] = np.where(train.pred_prob>cut_off, 1, 0)\n",
    "    train['TP'] = np.where(((train.y_yes ==1) & (train.y_pred==1)), 1, 0)\n",
    "    train['TN'] = np.where(((train.y_yes ==0) & (train.y_pred==0)), 1, 0)\n",
    "    train['FP'] = np.where(((train.y_yes ==0) & (train.y_pred==1)), 1, 0)\n",
    "    train['FN'] = np.where(((train.y_yes ==1) & (train.y_pred==0)), 1, 0)\n",
    "    sensitivity = train.TP.sum()/train.y_yes.sum()\n",
    "    specificity = train.TN.sum()/(1-train.y_yes).sum()\n",
    "    accuracy = (train.TN.sum()+train.TP.sum())/train.y_yes.count()\n",
    "    roc_like_table = pd.DataFrame([cut_off, sensitivity, specificity, accuracy]).T\n",
    "    roc_like_table.columns = ['cutoff', 'sensitivity', 'specificity', 'accuracy']\n",
    "    roc_df = pd.concat([roc_df, roc_like_table], axis=0)\n",
    "    "
   ]
  },
  {
   "cell_type": "code",
   "execution_count": 50,
   "metadata": {},
   "outputs": [],
   "source": [
    "roc_df['total'] = roc_df.sensitivity + roc_df.specificity"
   ]
  },
  {
   "cell_type": "code",
   "execution_count": 51,
   "metadata": {},
   "outputs": [
    {
     "data": {
      "text/html": [
       "<div>\n",
       "<style scoped>\n",
       "    .dataframe tbody tr th:only-of-type {\n",
       "        vertical-align: middle;\n",
       "    }\n",
       "\n",
       "    .dataframe tbody tr th {\n",
       "        vertical-align: top;\n",
       "    }\n",
       "\n",
       "    .dataframe thead th {\n",
       "        text-align: right;\n",
       "    }\n",
       "</style>\n",
       "<table border=\"1\" class=\"dataframe\">\n",
       "  <thead>\n",
       "    <tr style=\"text-align: right;\">\n",
       "      <th></th>\n",
       "      <th>cutoff</th>\n",
       "      <th>sensitivity</th>\n",
       "      <th>specificity</th>\n",
       "      <th>accuracy</th>\n",
       "      <th>total</th>\n",
       "    </tr>\n",
       "  </thead>\n",
       "  <tbody>\n",
       "    <tr>\n",
       "      <td>0</td>\n",
       "      <td>0.081633</td>\n",
       "      <td>0.934853</td>\n",
       "      <td>0.811724</td>\n",
       "      <td>0.824835</td>\n",
       "      <td>1.746577</td>\n",
       "    </tr>\n",
       "  </tbody>\n",
       "</table>\n",
       "</div>"
      ],
      "text/plain": [
       "     cutoff  sensitivity  specificity  accuracy     total\n",
       "0  0.081633     0.934853     0.811724  0.824835  1.746577"
      ]
     },
     "execution_count": 51,
     "metadata": {},
     "output_type": "execute_result"
    }
   ],
   "source": [
    "roc_df[roc_df.total == roc_df.total.max()]"
   ]
  },
  {
   "cell_type": "code",
   "execution_count": 52,
   "metadata": {},
   "outputs": [],
   "source": [
    "#train.y_yes.mean()"
   ]
  },
  {
   "cell_type": "code",
   "execution_count": 53,
   "metadata": {},
   "outputs": [],
   "source": [
    "#Best Cut-off = 0.082"
   ]
  },
  {
   "cell_type": "code",
   "execution_count": 54,
   "metadata": {},
   "outputs": [],
   "source": [
    "train['y_pred'] = np.where(train.pred_prob>0.082, 1, 0)\n",
    "test['y_pred'] = np.where(test.pred_prob>0.082, 1, 0)"
   ]
  },
  {
   "cell_type": "code",
   "execution_count": 55,
   "metadata": {},
   "outputs": [
    {
     "name": "stdout",
     "output_type": "stream",
     "text": [
      "              precision    recall  f1-score   support\n",
      "\n",
      "           0       0.99      0.81      0.89      2576\n",
      "           1       0.37      0.93      0.53       307\n",
      "\n",
      "    accuracy                           0.83      2883\n",
      "   macro avg       0.68      0.87      0.71      2883\n",
      "weighted avg       0.92      0.83      0.85      2883\n",
      "\n"
     ]
    }
   ],
   "source": [
    "print(metrics.classification_report(train.y_yes, train.y_pred))"
   ]
  },
  {
   "cell_type": "code",
   "execution_count": 56,
   "metadata": {},
   "outputs": [
    {
     "name": "stdout",
     "output_type": "stream",
     "text": [
      "              precision    recall  f1-score   support\n",
      "\n",
      "           0       0.98      0.82      0.90      1092\n",
      "           1       0.40      0.90      0.56       144\n",
      "\n",
      "    accuracy                           0.83      1236\n",
      "   macro avg       0.69      0.86      0.73      1236\n",
      "weighted avg       0.92      0.83      0.86      1236\n",
      "\n"
     ]
    }
   ],
   "source": [
    "print(metrics.classification_report(test.y_yes, test.y_pred))"
   ]
  },
  {
   "cell_type": "code",
   "execution_count": 57,
   "metadata": {},
   "outputs": [],
   "source": [
    "import pickle"
   ]
  },
  {
   "cell_type": "code",
   "execution_count": 58,
   "metadata": {},
   "outputs": [],
   "source": [
    "with open('logit_model.pkl', 'wb') as f:\n",
    "    pickle.dump(logit_model, f)"
   ]
  },
  {
   "cell_type": "code",
   "execution_count": 59,
   "metadata": {},
   "outputs": [],
   "source": [
    "train_X, test_X, train_y, test_y = train_test_split(X_new, y, test_size=0.3, random_state=123)"
   ]
  },
  {
   "cell_type": "code",
   "execution_count": 60,
   "metadata": {},
   "outputs": [
    {
     "data": {
      "text/plain": [
       "DecisionTreeClassifier(class_weight=None, criterion='gini', max_depth=5,\n",
       "                       max_features=None, max_leaf_nodes=10,\n",
       "                       min_impurity_decrease=0.0, min_impurity_split=None,\n",
       "                       min_samples_leaf=1, min_samples_split=2,\n",
       "                       min_weight_fraction_leaf=0.0, presort=False,\n",
       "                       random_state=None, splitter='best')"
      ]
     },
     "execution_count": 60,
     "metadata": {},
     "output_type": "execute_result"
    }
   ],
   "source": [
    "\n",
    "#Decision Tree Classifier\n",
    "dt_model = DecisionTreeClassifier(max_depth=5, max_leaf_nodes=10)\n",
    "dt_model.fit(train_X, train_y)"
   ]
  },
  {
   "cell_type": "code",
   "execution_count": 61,
   "metadata": {},
   "outputs": [
    {
     "data": {
      "text/plain": [
       "0.8414113237704091"
      ]
     },
     "execution_count": 61,
     "metadata": {},
     "output_type": "execute_result"
    }
   ],
   "source": [
    "2*metrics.roc_auc_score(train_y, pd.DataFrame(dt_model.predict_proba(train_X))[1])-1"
   ]
  },
  {
   "cell_type": "code",
   "execution_count": 62,
   "metadata": {},
   "outputs": [
    {
     "data": {
      "text/plain": [
       "0.8017780830280832"
      ]
     },
     "execution_count": 62,
     "metadata": {},
     "output_type": "execute_result"
    }
   ],
   "source": [
    "2*metrics.roc_auc_score(test_y, pd.DataFrame(dt_model.predict_proba(test_X))[1])-1"
   ]
  },
  {
   "cell_type": "code",
   "execution_count": 63,
   "metadata": {},
   "outputs": [],
   "source": [
    "train_pred = np.where(pd.DataFrame(dt_model.predict_proba(train_X))[1]>0.10, 1, 0)\n",
    "test_pred = np.where(pd.DataFrame(dt_model.predict_proba(test_X))[1]>0.10, 1, 0)"
   ]
  },
  {
   "cell_type": "code",
   "execution_count": 64,
   "metadata": {},
   "outputs": [
    {
     "name": "stdout",
     "output_type": "stream",
     "text": [
      "              precision    recall  f1-score   support\n",
      "\n",
      "           0       0.99      0.84      0.91      2576\n",
      "           1       0.40      0.91      0.56       307\n",
      "\n",
      "    accuracy                           0.85      2883\n",
      "   macro avg       0.70      0.87      0.73      2883\n",
      "weighted avg       0.93      0.85      0.87      2883\n",
      "\n"
     ]
    }
   ],
   "source": [
    "print(metrics.classification_report(train_y, train_pred))"
   ]
  },
  {
   "cell_type": "code",
   "execution_count": 65,
   "metadata": {},
   "outputs": [
    {
     "name": "stdout",
     "output_type": "stream",
     "text": [
      "              precision    recall  f1-score   support\n",
      "\n",
      "           0       0.98      0.86      0.91      1092\n",
      "           1       0.44      0.86      0.58       144\n",
      "\n",
      "    accuracy                           0.86      1236\n",
      "   macro avg       0.71      0.86      0.75      1236\n",
      "weighted avg       0.92      0.86      0.88      1236\n",
      "\n"
     ]
    }
   ],
   "source": [
    "print(metrics.classification_report(test_y, test_pred))"
   ]
  },
  {
   "cell_type": "code",
   "execution_count": 66,
   "metadata": {},
   "outputs": [
    {
     "data": {
      "text/plain": [
       "Index(['duration', 'emp_var_rate', 'previous', 'poutcome_nonexistent',\n",
       "       'contact_telephone', 'poutcome_success', 'month_may', 'job_blue_collar',\n",
       "       'day_of_week_thu', 'month_dec', 'housing_yes', 'month_mar', 'month_oct',\n",
       "       'month_sep'],\n",
       "      dtype='object')"
      ]
     },
     "execution_count": 66,
     "metadata": {},
     "output_type": "execute_result"
    }
   ],
   "source": [
    "train_X.columns"
   ]
  },
  {
   "cell_type": "code",
   "execution_count": 67,
   "metadata": {},
   "outputs": [
    {
     "data": {
      "text/plain": [
       "array([0.5518749 , 0.12035175, 0.        , 0.        , 0.        ,\n",
       "       0.24791744, 0.07985591, 0.        , 0.        , 0.        ,\n",
       "       0.        , 0.        , 0.        , 0.        ])"
      ]
     },
     "execution_count": 67,
     "metadata": {},
     "output_type": "execute_result"
    }
   ],
   "source": [
    "dt_model.feature_importances_"
   ]
  },
  {
   "cell_type": "code",
   "execution_count": 68,
   "metadata": {},
   "outputs": [],
   "source": [
    "feature_improtance = pd.concat([pd.Series(train_X.columns), pd.Series(dt_model.feature_importances_)], axis=1)"
   ]
  },
  {
   "cell_type": "code",
   "execution_count": 69,
   "metadata": {},
   "outputs": [],
   "source": [
    "feature_improtance.columns = ['feature', 'importance']"
   ]
  },
  {
   "cell_type": "code",
   "execution_count": 70,
   "metadata": {},
   "outputs": [
    {
     "data": {
      "text/html": [
       "<div>\n",
       "<style scoped>\n",
       "    .dataframe tbody tr th:only-of-type {\n",
       "        vertical-align: middle;\n",
       "    }\n",
       "\n",
       "    .dataframe tbody tr th {\n",
       "        vertical-align: top;\n",
       "    }\n",
       "\n",
       "    .dataframe thead th {\n",
       "        text-align: right;\n",
       "    }\n",
       "</style>\n",
       "<table border=\"1\" class=\"dataframe\">\n",
       "  <thead>\n",
       "    <tr style=\"text-align: right;\">\n",
       "      <th></th>\n",
       "      <th>feature</th>\n",
       "      <th>importance</th>\n",
       "    </tr>\n",
       "  </thead>\n",
       "  <tbody>\n",
       "    <tr>\n",
       "      <td>0</td>\n",
       "      <td>duration</td>\n",
       "      <td>0.551875</td>\n",
       "    </tr>\n",
       "    <tr>\n",
       "      <td>5</td>\n",
       "      <td>poutcome_success</td>\n",
       "      <td>0.247917</td>\n",
       "    </tr>\n",
       "    <tr>\n",
       "      <td>1</td>\n",
       "      <td>emp_var_rate</td>\n",
       "      <td>0.120352</td>\n",
       "    </tr>\n",
       "    <tr>\n",
       "      <td>6</td>\n",
       "      <td>month_may</td>\n",
       "      <td>0.079856</td>\n",
       "    </tr>\n",
       "    <tr>\n",
       "      <td>2</td>\n",
       "      <td>previous</td>\n",
       "      <td>0.000000</td>\n",
       "    </tr>\n",
       "    <tr>\n",
       "      <td>3</td>\n",
       "      <td>poutcome_nonexistent</td>\n",
       "      <td>0.000000</td>\n",
       "    </tr>\n",
       "    <tr>\n",
       "      <td>4</td>\n",
       "      <td>contact_telephone</td>\n",
       "      <td>0.000000</td>\n",
       "    </tr>\n",
       "    <tr>\n",
       "      <td>7</td>\n",
       "      <td>job_blue_collar</td>\n",
       "      <td>0.000000</td>\n",
       "    </tr>\n",
       "    <tr>\n",
       "      <td>8</td>\n",
       "      <td>day_of_week_thu</td>\n",
       "      <td>0.000000</td>\n",
       "    </tr>\n",
       "    <tr>\n",
       "      <td>9</td>\n",
       "      <td>month_dec</td>\n",
       "      <td>0.000000</td>\n",
       "    </tr>\n",
       "    <tr>\n",
       "      <td>10</td>\n",
       "      <td>housing_yes</td>\n",
       "      <td>0.000000</td>\n",
       "    </tr>\n",
       "    <tr>\n",
       "      <td>11</td>\n",
       "      <td>month_mar</td>\n",
       "      <td>0.000000</td>\n",
       "    </tr>\n",
       "    <tr>\n",
       "      <td>12</td>\n",
       "      <td>month_oct</td>\n",
       "      <td>0.000000</td>\n",
       "    </tr>\n",
       "    <tr>\n",
       "      <td>13</td>\n",
       "      <td>month_sep</td>\n",
       "      <td>0.000000</td>\n",
       "    </tr>\n",
       "  </tbody>\n",
       "</table>\n",
       "</div>"
      ],
      "text/plain": [
       "                 feature  importance\n",
       "0               duration    0.551875\n",
       "5       poutcome_success    0.247917\n",
       "1           emp_var_rate    0.120352\n",
       "6              month_may    0.079856\n",
       "2               previous    0.000000\n",
       "3   poutcome_nonexistent    0.000000\n",
       "4      contact_telephone    0.000000\n",
       "7        job_blue_collar    0.000000\n",
       "8        day_of_week_thu    0.000000\n",
       "9              month_dec    0.000000\n",
       "10           housing_yes    0.000000\n",
       "11             month_mar    0.000000\n",
       "12             month_oct    0.000000\n",
       "13             month_sep    0.000000"
      ]
     },
     "execution_count": 70,
     "metadata": {},
     "output_type": "execute_result"
    }
   ],
   "source": [
    "feature_improtance.sort_values(by='importance', ascending=False)"
   ]
  },
  {
   "cell_type": "code",
   "execution_count": 71,
   "metadata": {},
   "outputs": [
    {
     "data": {
      "text/plain": [
       "GridSearchCV(cv=10, error_score='raise-deprecating',\n",
       "             estimator=DecisionTreeClassifier(class_weight=None,\n",
       "                                              criterion='gini', max_depth=None,\n",
       "                                              max_features=None,\n",
       "                                              max_leaf_nodes=None,\n",
       "                                              min_impurity_decrease=0.0,\n",
       "                                              min_impurity_split=None,\n",
       "                                              min_samples_leaf=1,\n",
       "                                              min_samples_split=2,\n",
       "                                              min_weight_fraction_leaf=0.0,\n",
       "                                              presort=False, random_state=None,\n",
       "                                              splitter='best'),\n",
       "             iid='warn', n_jobs=None,\n",
       "             param_grid={'max_depth': [3, 4, 5, 6],\n",
       "                         'max_leaf_nodes': [5, 6, 7, 8, 9, 10]},\n",
       "             pre_dispatch='2*n_jobs', refit=True, return_train_score=False,\n",
       "             scoring='f1_weighted', verbose=0)"
      ]
     },
     "execution_count": 71,
     "metadata": {},
     "output_type": "execute_result"
    }
   ],
   "source": [
    "#Using Hyperparameters\n",
    "param_grid = {'max_depth': [3,4,5,6], 'max_leaf_nodes': [5,6,7,8,9,10]}\n",
    "\n",
    "dt_GCV_model = GridSearchCV(DecisionTreeClassifier(), param_grid, cv=10, scoring='f1_weighted')\n",
    "dt_GCV_model.fit(train_X, train_y)"
   ]
  },
  {
   "cell_type": "code",
   "execution_count": 72,
   "metadata": {},
   "outputs": [
    {
     "data": {
      "text/plain": [
       "{'max_depth': 5, 'max_leaf_nodes': 9}"
      ]
     },
     "execution_count": 72,
     "metadata": {},
     "output_type": "execute_result"
    }
   ],
   "source": [
    "dt_GCV_model.best_params_"
   ]
  },
  {
   "cell_type": "code",
   "execution_count": 73,
   "metadata": {},
   "outputs": [
    {
     "data": {
      "text/plain": [
       "0.897691004062523"
      ]
     },
     "execution_count": 73,
     "metadata": {},
     "output_type": "execute_result"
    }
   ],
   "source": [
    "dt_GCV_model.best_score_"
   ]
  },
  {
   "cell_type": "code",
   "execution_count": 74,
   "metadata": {},
   "outputs": [],
   "source": [
    "#sorted(sklearn.metrics.SCORERS.keys())"
   ]
  },
  {
   "cell_type": "code",
   "execution_count": 75,
   "metadata": {},
   "outputs": [
    {
     "data": {
      "text/plain": [
       "DecisionTreeClassifier(class_weight=None, criterion='gini', max_depth=5,\n",
       "                       max_features=None, max_leaf_nodes=9,\n",
       "                       min_impurity_decrease=0.0, min_impurity_split=None,\n",
       "                       min_samples_leaf=1, min_samples_split=2,\n",
       "                       min_weight_fraction_leaf=0.0, presort=False,\n",
       "                       random_state=None, splitter='best')"
      ]
     },
     "execution_count": 75,
     "metadata": {},
     "output_type": "execute_result"
    }
   ],
   "source": [
    "#Decision Tree Classifier\n",
    "dt_model = DecisionTreeClassifier(max_depth=5, max_leaf_nodes=9)\n",
    "dt_model.fit(train_X, train_y)"
   ]
  },
  {
   "cell_type": "code",
   "execution_count": 76,
   "metadata": {},
   "outputs": [],
   "source": [
    "# Random Forest"
   ]
  },
  {
   "cell_type": "code",
   "execution_count": 78,
   "metadata": {},
   "outputs": [],
   "source": [
    "RF_model = RandomForestClassifier(n_estimators=50, max_depth=5, max_features=6).fit(train_X, train_y)"
   ]
  },
  {
   "cell_type": "code",
   "execution_count": 79,
   "metadata": {},
   "outputs": [
    {
     "data": {
      "text/plain": [
       "array([0.49008964, 0.17831794, 0.03637495, 0.01193079, 0.00715152,\n",
       "       0.14908179, 0.04006762, 0.00819602, 0.00694701, 0.00652872,\n",
       "       0.00811315, 0.0385486 , 0.00848582, 0.01016644])"
      ]
     },
     "execution_count": 79,
     "metadata": {},
     "output_type": "execute_result"
    }
   ],
   "source": [
    "RF_model.feature_importances_"
   ]
  },
  {
   "cell_type": "code",
   "execution_count": 80,
   "metadata": {},
   "outputs": [
    {
     "data": {
      "text/plain": [
       "Index(['duration', 'emp_var_rate', 'previous', 'poutcome_nonexistent',\n",
       "       'contact_telephone', 'poutcome_success', 'month_may', 'job_blue_collar',\n",
       "       'day_of_week_thu', 'month_dec', 'housing_yes', 'month_mar', 'month_oct',\n",
       "       'month_sep'],\n",
       "      dtype='object')"
      ]
     },
     "execution_count": 80,
     "metadata": {},
     "output_type": "execute_result"
    }
   ],
   "source": [
    "train_X.columns"
   ]
  },
  {
   "cell_type": "code",
   "execution_count": 83,
   "metadata": {},
   "outputs": [
    {
     "data": {
      "text/plain": [
       "0.9499387986323264"
      ]
     },
     "execution_count": 83,
     "metadata": {},
     "output_type": "execute_result"
    }
   ],
   "source": [
    "metrics.roc_auc_score(train_y, pd.DataFrame(RF_model.predict_proba(train_X))[1])"
   ]
  },
  {
   "cell_type": "code",
   "execution_count": 84,
   "metadata": {},
   "outputs": [
    {
     "data": {
      "text/plain": [
       "0.9309657356532357"
      ]
     },
     "execution_count": 84,
     "metadata": {},
     "output_type": "execute_result"
    }
   ],
   "source": [
    "metrics.roc_auc_score(test_y, pd.DataFrame(RF_model.predict_proba(test_X))[1])"
   ]
  },
  {
   "cell_type": "code",
   "execution_count": 85,
   "metadata": {},
   "outputs": [],
   "source": [
    "#using gridsearch\n",
    "param_grid = {'max_depth': [5,6,7,8,9,10], 'n_estimators':[50,100,200], 'max_features':[4,5,6,7,8]}\n",
    "RF_GCV_model = GridSearchCV(RandomForestClassifier(), param_grid, cv=10, scoring='f1_weighted')\n",
    "RF_GCV_model = RF_GCV_model.fit(train_X, train_y)"
   ]
  },
  {
   "cell_type": "code",
   "execution_count": 86,
   "metadata": {},
   "outputs": [
    {
     "data": {
      "text/plain": [
       "{'max_depth': 7, 'max_features': 7, 'n_estimators': 100}"
      ]
     },
     "execution_count": 86,
     "metadata": {},
     "output_type": "execute_result"
    }
   ],
   "source": [
    "RF_GCV_model.best_params_"
   ]
  },
  {
   "cell_type": "code",
   "execution_count": 87,
   "metadata": {},
   "outputs": [
    {
     "data": {
      "text/plain": [
       "0.9026519547922791"
      ]
     },
     "execution_count": 87,
     "metadata": {},
     "output_type": "execute_result"
    }
   ],
   "source": [
    "RF_GCV_model.best_score_"
   ]
  },
  {
   "cell_type": "code",
   "execution_count": 88,
   "metadata": {},
   "outputs": [
    {
     "data": {
      "text/plain": [
       "array([[0.99700643, 0.00299357],\n",
       "       [0.98891132, 0.01108868],\n",
       "       [0.98342552, 0.01657448],\n",
       "       ...,\n",
       "       [0.9961278 , 0.0038722 ],\n",
       "       [0.4193995 , 0.5806005 ],\n",
       "       [0.65498109, 0.34501891]])"
      ]
     },
     "execution_count": 88,
     "metadata": {},
     "output_type": "execute_result"
    }
   ],
   "source": [
    "RF_GCV_model.predict_proba(train_X)"
   ]
  },
  {
   "cell_type": "code",
   "execution_count": null,
   "metadata": {},
   "outputs": [],
   "source": []
  }
 ],
 "metadata": {
  "kernelspec": {
   "display_name": "Python 3",
   "language": "python",
   "name": "python3"
  },
  "language_info": {
   "codemirror_mode": {
    "name": "ipython",
    "version": 3
   },
   "file_extension": ".py",
   "mimetype": "text/x-python",
   "name": "python",
   "nbconvert_exporter": "python",
   "pygments_lexer": "ipython3",
   "version": "3.7.4"
  }
 },
 "nbformat": 4,
 "nbformat_minor": 2
}
